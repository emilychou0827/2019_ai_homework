{
 "cells": [
  {
   "cell_type": "code",
   "execution_count": 1,
   "metadata": {},
   "outputs": [],
   "source": [
    "import cv2\n",
    "import numpy as np\n",
    "\n",
    "img = cv2.imread('data/lena.png')\n",
    "#cv2.imshow('',img)\n",
    "#cv2.waitKey(0)"
   ]
  },
  {
   "cell_type": "code",
   "execution_count": 14,
   "metadata": {},
   "outputs": [
    {
     "data": {
      "text/plain": [
       "-1"
      ]
     },
     "execution_count": 14,
     "metadata": {},
     "output_type": "execute_result"
    }
   ],
   "source": [
    "img_line = img.copy()\n",
    "img_line = cv2.line(img_line,(60,40),(402,510),(0,0,255),2)\n",
    "img_line = cv2.putText(img_line,'line', (60, 40), 0, 1, (255, 0,0), 2)\n",
    "cv2.imshow('line',img_line)\n",
    "cv2.waitKey(0)"
   ]
  },
  {
   "cell_type": "code",
   "execution_count": 2,
   "metadata": {},
   "outputs": [],
   "source": [
    "img_rect = img.copy()\n",
    "img_rect = cv2.rectangle(img_rect, (60, 40), (420, 510), (0, 0, 255), 3)\n",
    "#cv2.imshow('rect',img_rect)\n",
    "#cv2.waitKey(0)"
   ]
  },
  {
   "cell_type": "markdown",
   "metadata": {},
   "source": [
    "## 解法二\n",
    "\n",
    "\n",
    "如果希望得知矩型邊框的位置\n",
    "\n",
    "顏色的操作 (對明亮度做直方圖均衡)\n",
    "\n",
    "鏡像可以透過四則運算得知\n",
    "\n",
    "透過建構 transformation matrix 做縮放\n",
    "\n",
    "把矩型邊框的點與 transformation matrix 相乘就會得到縮放後的位置\n",
    "\n",
    "畫圖\n",
    "得到的圖的結果正確，同時也知道新的矩型邊框座標點"
   ]
  },
  {
   "cell_type": "code",
   "execution_count": 18,
   "metadata": {},
   "outputs": [
    {
     "name": "stdout",
     "output_type": "stream",
     "text": [
      "max= [511, 421]\n",
      "min= [38, 60]\n"
     ]
    }
   ],
   "source": [
    "img_hw = img_rect.copy()\n",
    "\n",
    "#img_hw = cv2.cvtColor(img_hw, cv2.COLOR_BGR2HSV)\n",
    "#img_hw[..., -1] = cv2.equalizeHist(img_hw[..., -1])\n",
    "#img_hw = cv2.cvtColor(img_hw,cv2.COLOR_HSV2BGR)\n",
    "\n",
    "\n",
    "img_hw = cv2.cvtColor(img_hw, cv2.COLOR_BGR2HLS)\n",
    "img_hw[..., -1] = cv2.equalizeHist(img_hw[..., -1])\n",
    "img_hw = cv2.cvtColor(img_hw,cv2.COLOR_HLS2BGR)\n",
    "img_hw[img_hw[..., -1] <255] = 0 \n",
    "\n",
    "#print(img_hw)\n",
    "#cv2.imshow('rect',img_hw)\n",
    "#cv2.waitKey(0)\n",
    "list=[]\n",
    "for y in range(img_hw.shape[0]):#y\n",
    "        for x in range(img_hw.shape[1]):#x\n",
    "            (b,g,r) = img_hw[y,x]                        \n",
    "            if ( r == 255):\n",
    "                list.append([y,x])\n",
    "max_=max(list)               \n",
    "min_=min(list)\n",
    "print(\"max=\",max_)\n",
    "print(\"min=\",min_)\n",
    "            #    print(img_hw.item() )\n",
    "#print(img_hw.shape[2])\n",
    "#for x in range(0,img_hw.shape[0]):\n",
    "#    for y in range(0,img_hw.shape[1]):\n",
    "#        if img_hw[x,y] == [1, 1, 255]: \n",
    "#            print(img_hw[x,y])"
   ]
  },
  {
   "cell_type": "code",
   "execution_count": 11,
   "metadata": {},
   "outputs": [
    {
     "name": "stdout",
     "output_type": "stream",
     "text": [
      "center= (256.0, 256.0)\n",
      "60\n",
      "org-->point1=[452, 40],point2=[92, 510]\n",
      "new-->point1=[92, 40],point2=[452, 510]\n"
     ]
    }
   ],
   "source": [
    "img_hw = img.copy()\n",
    "point1 = [60, 40]\n",
    "point2 = [420, 510]\n",
    "h, w = img_hw.shape[:2]#y,x\n",
    "center = ( w/2, h/2)\n",
    "print(\"center=\",center)\n",
    "# 水平鏡像\n",
    "img_hw = cv2.flip(img_hw,1)\n",
    "\n",
    "# 透過四則運算計算鏡像後位置\n",
    "# 確保點的位置一樣是左上跟右下，所以交換鏡像後的 x 座標 (y 座標做水平鏡像後位置不變)\n",
    "print(point1[0])\n",
    "point1[0] = w - point1[0]\n",
    "point2[0] = w - point2[0]\n",
    "print(\"org-->point1={0},point2={1}\".format(point1,point2))\n",
    "point1[0] ,point2[0] = point2[0],point1[0]\n",
    "print(\"new-->point1={0},point2={1}\".format(point1,point2))"
   ]
  },
  {
   "cell_type": "code",
   "execution_count": 5,
   "metadata": {},
   "outputs": [],
   "source": [
    "\"\"\"\n",
    "縮放處理 (0.5 倍)\n",
    "\"\"\"\n",
    "fx = 0.5\n",
    "fy = 0.5\n",
    "resize_col = int(img_hw.shape[1]*fx)\n",
    "resize_row = int(img_hw.shape[0]*fy)\n",
    "\n",
    "# 建構 scale matrix\n",
    "#[a,c,e]-->a,d=scale; c,b=旋轉角度 , e,f=移動\n",
    "#[b,d,f]\n",
    "M_scale = np.array([[fx,0,0],[0,fx,0]])\n",
    "M_scale = M_scale.astype('float32')\n",
    "img_hw = cv2.warpAffine(img_hw,M_scale,(resize_row,resize_col))"
   ]
  },
  {
   "cell_type": "code",
   "execution_count": 6,
   "metadata": {},
   "outputs": [
    {
     "name": "stdout",
     "output_type": "stream",
     "text": [
      "M_scale.shape=(2, 3), bbox.shape=(2, 2)\n",
      "origin point1=[92, 40], origin point2=[452, 510]\n",
      "resize point1=(46, 20), resize point2=(226, 255)\n"
     ]
    }
   ],
   "source": [
    "# 把左上跟右下轉為矩陣型式\n",
    "bbox = np.array((point1, point2), dtype=np.float32)\n",
    "print('M_scale.shape={}, bbox.shape={}'.format(M_scale.shape, bbox.shape))\n",
    "\n",
    "# 做矩陣乘法可以使用 `np.dot`, 為了做矩陣乘法, M_scale 需要做轉置之後才能相乘\n",
    "homo_coor_result = np.dot(M_scale.T, bbox)\n",
    "homo_coor_result = homo_coor_result.astype('uint8')\n",
    "#print(homo_coor_result)\n",
    "scale_point1 = tuple(homo_coor_result[0])\n",
    "scale_point2 = tuple(homo_coor_result[1])\n",
    "print('origin point1={}, origin point2={}'.format(point1, point2))\n",
    "print('resize point1={}, resize point2={}'.format(scale_point1, scale_point2))\n",
    "\n",
    "# 畫圖\n",
    "cv2.rectangle(img_hw, scale_point1, scale_point2, (0, 0, 255), 3)\n",
    "cv2.imshow('image', img_hw)\n",
    "cv2.waitKey(0)\n",
    "cv2.destroyAllWindows()\n"
   ]
  },
  {
   "cell_type": "code",
   "execution_count": null,
   "metadata": {},
   "outputs": [],
   "source": []
  }
 ],
 "metadata": {
  "kernelspec": {
   "display_name": "Python 3",
   "language": "python",
   "name": "python3"
  },
  "language_info": {
   "codemirror_mode": {
    "name": "ipython",
    "version": 3
   },
   "file_extension": ".py",
   "mimetype": "text/x-python",
   "name": "python",
   "nbconvert_exporter": "python",
   "pygments_lexer": "ipython3",
   "version": "3.6.1"
  }
 },
 "nbformat": 4,
 "nbformat_minor": 2
}
