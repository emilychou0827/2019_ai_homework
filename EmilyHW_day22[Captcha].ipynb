{
 "cells": [
  {
   "cell_type": "markdown",
   "metadata": {
    "colab_type": "text",
    "id": "9mCgg-qDmaiZ"
   },
   "source": [
    "## 『本次練習內容』\n",
    "#### 搭建一個能識別驗證碼的模型(CNN+CTC)"
   ]
  },
  {
   "cell_type": "markdown",
   "metadata": {
    "colab_type": "text",
    "id": "e4bsgYyAmaic"
   },
   "source": [
    "## 『本次練習目的』\n",
    "  #### 了解如何結合CNN與CTC Loss\n",
    "  #### 有時間學員也可以延伸閱讀CNN+RNN+CTC模型\n",
    "  #### 沒有GPU的學員可以使用Colab，可以參考問答區的文章"
   ]
  },
  {
   "cell_type": "code",
   "execution_count": 2,
   "metadata": {
    "colab": {
     "base_uri": "https://localhost:8080/",
     "height": 522
    },
    "colab_type": "code",
    "executionInfo": {
     "elapsed": 5649,
     "status": "error",
     "timestamp": 1577171852378,
     "user": {
      "displayName": "Emily Chou",
      "photoUrl": "https://lh3.googleusercontent.com/a-/AAuE7mBbTyW1QUZdripf6tUgOZTbughaHmsdXp-6K7Lz=s64",
      "userId": "16678658602905794969"
     },
     "user_tz": -480
    },
    "id": "bS4-bkgamaid",
    "outputId": "ff3bde9c-213d-4432-9bda-2e77b55a1e9d"
   },
   "outputs": [
    {
     "ename": "KeyboardInterrupt",
     "evalue": "ignored",
     "output_type": "error",
     "traceback": [
      "\u001b[0;31m---------------------------------------------------------------------------\u001b[0m",
      "\u001b[0;31mKeyboardInterrupt\u001b[0m                         Traceback (most recent call last)",
      "\u001b[0;32m/usr/local/lib/python3.6/dist-packages/ipykernel/kernelbase.py\u001b[0m in \u001b[0;36m_input_request\u001b[0;34m(self, prompt, ident, parent, password)\u001b[0m\n\u001b[1;32m    729\u001b[0m             \u001b[0;32mtry\u001b[0m\u001b[0;34m:\u001b[0m\u001b[0;34m\u001b[0m\u001b[0;34m\u001b[0m\u001b[0m\n\u001b[0;32m--> 730\u001b[0;31m                 \u001b[0mident\u001b[0m\u001b[0;34m,\u001b[0m \u001b[0mreply\u001b[0m \u001b[0;34m=\u001b[0m \u001b[0mself\u001b[0m\u001b[0;34m.\u001b[0m\u001b[0msession\u001b[0m\u001b[0;34m.\u001b[0m\u001b[0mrecv\u001b[0m\u001b[0;34m(\u001b[0m\u001b[0mself\u001b[0m\u001b[0;34m.\u001b[0m\u001b[0mstdin_socket\u001b[0m\u001b[0;34m,\u001b[0m \u001b[0;36m0\u001b[0m\u001b[0;34m)\u001b[0m\u001b[0;34m\u001b[0m\u001b[0;34m\u001b[0m\u001b[0m\n\u001b[0m\u001b[1;32m    731\u001b[0m             \u001b[0;32mexcept\u001b[0m \u001b[0mException\u001b[0m\u001b[0;34m:\u001b[0m\u001b[0;34m\u001b[0m\u001b[0;34m\u001b[0m\u001b[0m\n",
      "\u001b[0;32m/usr/local/lib/python3.6/dist-packages/jupyter_client/session.py\u001b[0m in \u001b[0;36mrecv\u001b[0;34m(self, socket, mode, content, copy)\u001b[0m\n\u001b[1;32m    802\u001b[0m         \u001b[0;32mtry\u001b[0m\u001b[0;34m:\u001b[0m\u001b[0;34m\u001b[0m\u001b[0;34m\u001b[0m\u001b[0m\n\u001b[0;32m--> 803\u001b[0;31m             \u001b[0mmsg_list\u001b[0m \u001b[0;34m=\u001b[0m \u001b[0msocket\u001b[0m\u001b[0;34m.\u001b[0m\u001b[0mrecv_multipart\u001b[0m\u001b[0;34m(\u001b[0m\u001b[0mmode\u001b[0m\u001b[0;34m,\u001b[0m \u001b[0mcopy\u001b[0m\u001b[0;34m=\u001b[0m\u001b[0mcopy\u001b[0m\u001b[0;34m)\u001b[0m\u001b[0;34m\u001b[0m\u001b[0;34m\u001b[0m\u001b[0m\n\u001b[0m\u001b[1;32m    804\u001b[0m         \u001b[0;32mexcept\u001b[0m \u001b[0mzmq\u001b[0m\u001b[0;34m.\u001b[0m\u001b[0mZMQError\u001b[0m \u001b[0;32mas\u001b[0m \u001b[0me\u001b[0m\u001b[0;34m:\u001b[0m\u001b[0;34m\u001b[0m\u001b[0;34m\u001b[0m\u001b[0m\n",
      "\u001b[0;32m/usr/local/lib/python3.6/dist-packages/zmq/sugar/socket.py\u001b[0m in \u001b[0;36mrecv_multipart\u001b[0;34m(self, flags, copy, track)\u001b[0m\n\u001b[1;32m    465\u001b[0m         \"\"\"\n\u001b[0;32m--> 466\u001b[0;31m         \u001b[0mparts\u001b[0m \u001b[0;34m=\u001b[0m \u001b[0;34m[\u001b[0m\u001b[0mself\u001b[0m\u001b[0;34m.\u001b[0m\u001b[0mrecv\u001b[0m\u001b[0;34m(\u001b[0m\u001b[0mflags\u001b[0m\u001b[0;34m,\u001b[0m \u001b[0mcopy\u001b[0m\u001b[0;34m=\u001b[0m\u001b[0mcopy\u001b[0m\u001b[0;34m,\u001b[0m \u001b[0mtrack\u001b[0m\u001b[0;34m=\u001b[0m\u001b[0mtrack\u001b[0m\u001b[0;34m)\u001b[0m\u001b[0;34m]\u001b[0m\u001b[0;34m\u001b[0m\u001b[0;34m\u001b[0m\u001b[0m\n\u001b[0m\u001b[1;32m    467\u001b[0m         \u001b[0;31m# have first part already, only loop while more to receive\u001b[0m\u001b[0;34m\u001b[0m\u001b[0;34m\u001b[0m\u001b[0;34m\u001b[0m\u001b[0m\n",
      "\u001b[0;32mzmq/backend/cython/socket.pyx\u001b[0m in \u001b[0;36mzmq.backend.cython.socket.Socket.recv\u001b[0;34m()\u001b[0m\n",
      "\u001b[0;32mzmq/backend/cython/socket.pyx\u001b[0m in \u001b[0;36mzmq.backend.cython.socket.Socket.recv\u001b[0;34m()\u001b[0m\n",
      "\u001b[0;32mzmq/backend/cython/socket.pyx\u001b[0m in \u001b[0;36mzmq.backend.cython.socket._recv_copy\u001b[0;34m()\u001b[0m\n",
      "\u001b[0;32m/usr/local/lib/python3.6/dist-packages/zmq/backend/cython/checkrc.pxd\u001b[0m in \u001b[0;36mzmq.backend.cython.checkrc._check_rc\u001b[0;34m()\u001b[0m\n",
      "\u001b[0;31mKeyboardInterrupt\u001b[0m: ",
      "\nDuring handling of the above exception, another exception occurred:\n",
      "\u001b[0;31mKeyboardInterrupt\u001b[0m                         Traceback (most recent call last)",
      "\u001b[0;32m<ipython-input-2-db53329c2369>\u001b[0m in \u001b[0;36m<module>\u001b[0;34m()\u001b[0m\n\u001b[1;32m      1\u001b[0m \u001b[0;32mfrom\u001b[0m \u001b[0mgoogle\u001b[0m\u001b[0;34m.\u001b[0m\u001b[0mcolab\u001b[0m \u001b[0;32mimport\u001b[0m \u001b[0mdrive\u001b[0m\u001b[0;34m\u001b[0m\u001b[0;34m\u001b[0m\u001b[0m\n\u001b[0;32m----> 2\u001b[0;31m \u001b[0mdrive\u001b[0m\u001b[0;34m.\u001b[0m\u001b[0mmount\u001b[0m\u001b[0;34m(\u001b[0m\u001b[0;34m'/content/gdrive'\u001b[0m\u001b[0;34m)\u001b[0m\u001b[0;34m\u001b[0m\u001b[0;34m\u001b[0m\u001b[0m\n\u001b[0m\u001b[1;32m      3\u001b[0m \u001b[0;31m#檢查GPU\u001b[0m\u001b[0;34m\u001b[0m\u001b[0;34m\u001b[0m\u001b[0;34m\u001b[0m\u001b[0m\n\u001b[1;32m      4\u001b[0m \u001b[0mget_ipython\u001b[0m\u001b[0;34m(\u001b[0m\u001b[0;34m)\u001b[0m\u001b[0;34m.\u001b[0m\u001b[0msystem\u001b[0m\u001b[0;34m(\u001b[0m\u001b[0;34m'nvidia-smi'\u001b[0m\u001b[0;34m)\u001b[0m\u001b[0;34m\u001b[0m\u001b[0;34m\u001b[0m\u001b[0m\n\u001b[1;32m      5\u001b[0m \u001b[0;31m##安裝產生驗證碼的套件\u001b[0m\u001b[0;34m\u001b[0m\u001b[0;34m\u001b[0m\u001b[0;34m\u001b[0m\u001b[0m\n",
      "\u001b[0;32m/usr/local/lib/python3.6/dist-packages/google/colab/drive.py\u001b[0m in \u001b[0;36mmount\u001b[0;34m(mountpoint, force_remount, timeout_ms, use_metadata_server)\u001b[0m\n\u001b[1;32m    232\u001b[0m       \u001b[0mauth_prompt\u001b[0m \u001b[0;34m=\u001b[0m \u001b[0md\u001b[0m\u001b[0;34m.\u001b[0m\u001b[0mmatch\u001b[0m\u001b[0;34m.\u001b[0m\u001b[0mgroup\u001b[0m\u001b[0;34m(\u001b[0m\u001b[0;36m1\u001b[0m\u001b[0;34m)\u001b[0m \u001b[0;34m+\u001b[0m \u001b[0;34m'\\nEnter your authorization code:\\n'\u001b[0m\u001b[0;34m\u001b[0m\u001b[0;34m\u001b[0m\u001b[0m\n\u001b[1;32m    233\u001b[0m       \u001b[0;32mwith\u001b[0m \u001b[0mopen\u001b[0m\u001b[0;34m(\u001b[0m\u001b[0mfifo\u001b[0m\u001b[0;34m,\u001b[0m \u001b[0;34m'w'\u001b[0m\u001b[0;34m)\u001b[0m \u001b[0;32mas\u001b[0m \u001b[0mfifo_file\u001b[0m\u001b[0;34m:\u001b[0m\u001b[0;34m\u001b[0m\u001b[0;34m\u001b[0m\u001b[0m\n\u001b[0;32m--> 234\u001b[0;31m         \u001b[0mfifo_file\u001b[0m\u001b[0;34m.\u001b[0m\u001b[0mwrite\u001b[0m\u001b[0;34m(\u001b[0m\u001b[0m_getpass\u001b[0m\u001b[0;34m.\u001b[0m\u001b[0mgetpass\u001b[0m\u001b[0;34m(\u001b[0m\u001b[0mauth_prompt\u001b[0m\u001b[0;34m)\u001b[0m \u001b[0;34m+\u001b[0m \u001b[0;34m'\\n'\u001b[0m\u001b[0;34m)\u001b[0m\u001b[0;34m\u001b[0m\u001b[0;34m\u001b[0m\u001b[0m\n\u001b[0m\u001b[1;32m    235\u001b[0m       \u001b[0mwrote_to_fifo\u001b[0m \u001b[0;34m=\u001b[0m \u001b[0;32mTrue\u001b[0m\u001b[0;34m\u001b[0m\u001b[0;34m\u001b[0m\u001b[0m\n\u001b[1;32m    236\u001b[0m   \u001b[0;32mif\u001b[0m \u001b[0;32mnot\u001b[0m \u001b[0mwrote_to_fifo\u001b[0m\u001b[0;34m:\u001b[0m\u001b[0;34m\u001b[0m\u001b[0;34m\u001b[0m\u001b[0m\n",
      "\u001b[0;32m/usr/local/lib/python3.6/dist-packages/ipykernel/kernelbase.py\u001b[0m in \u001b[0;36mgetpass\u001b[0;34m(self, prompt, stream)\u001b[0m\n\u001b[1;32m    686\u001b[0m             \u001b[0mself\u001b[0m\u001b[0;34m.\u001b[0m\u001b[0m_parent_ident\u001b[0m\u001b[0;34m,\u001b[0m\u001b[0;34m\u001b[0m\u001b[0;34m\u001b[0m\u001b[0m\n\u001b[1;32m    687\u001b[0m             \u001b[0mself\u001b[0m\u001b[0;34m.\u001b[0m\u001b[0m_parent_header\u001b[0m\u001b[0;34m,\u001b[0m\u001b[0;34m\u001b[0m\u001b[0;34m\u001b[0m\u001b[0m\n\u001b[0;32m--> 688\u001b[0;31m             \u001b[0mpassword\u001b[0m\u001b[0;34m=\u001b[0m\u001b[0;32mTrue\u001b[0m\u001b[0;34m,\u001b[0m\u001b[0;34m\u001b[0m\u001b[0;34m\u001b[0m\u001b[0m\n\u001b[0m\u001b[1;32m    689\u001b[0m         )\n\u001b[1;32m    690\u001b[0m \u001b[0;34m\u001b[0m\u001b[0m\n",
      "\u001b[0;32m/usr/local/lib/python3.6/dist-packages/ipykernel/kernelbase.py\u001b[0m in \u001b[0;36m_input_request\u001b[0;34m(self, prompt, ident, parent, password)\u001b[0m\n\u001b[1;32m    733\u001b[0m             \u001b[0;32mexcept\u001b[0m \u001b[0mKeyboardInterrupt\u001b[0m\u001b[0;34m:\u001b[0m\u001b[0;34m\u001b[0m\u001b[0;34m\u001b[0m\u001b[0m\n\u001b[1;32m    734\u001b[0m                 \u001b[0;31m# re-raise KeyboardInterrupt, to truncate traceback\u001b[0m\u001b[0;34m\u001b[0m\u001b[0;34m\u001b[0m\u001b[0;34m\u001b[0m\u001b[0m\n\u001b[0;32m--> 735\u001b[0;31m                 \u001b[0;32mraise\u001b[0m \u001b[0mKeyboardInterrupt\u001b[0m\u001b[0;34m\u001b[0m\u001b[0;34m\u001b[0m\u001b[0m\n\u001b[0m\u001b[1;32m    736\u001b[0m             \u001b[0;32melse\u001b[0m\u001b[0;34m:\u001b[0m\u001b[0;34m\u001b[0m\u001b[0;34m\u001b[0m\u001b[0m\n\u001b[1;32m    737\u001b[0m                 \u001b[0;32mbreak\u001b[0m\u001b[0;34m\u001b[0m\u001b[0;34m\u001b[0m\u001b[0m\n",
      "\u001b[0;31mKeyboardInterrupt\u001b[0m: "
     ]
    }
   ],
   "source": [
    "## 使用Colab可先run這裡的code\n",
    "#假如要連結自己的雲端硬碟再開啟\n",
    "#from google.colab import drive\n",
    "#drive.mount('/content/gdrive')\n",
    "#檢查GPU\n",
    "#!nvidia-smi\n",
    "##安裝產生驗證碼的套件"
   ]
  },
  {
   "cell_type": "markdown",
   "metadata": {
    "colab_type": "text",
    "id": "duNOcIS0maig"
   },
   "source": [
    "## 記得先 pip install captcha"
   ]
  },
  {
   "cell_type": "code",
   "execution_count": 4,
   "metadata": {
    "colab": {
     "base_uri": "https://localhost:8080/",
     "height": 134
    },
    "colab_type": "code",
    "executionInfo": {
     "elapsed": 6153,
     "status": "ok",
     "timestamp": 1577171880096,
     "user": {
      "displayName": "Emily Chou",
      "photoUrl": "https://lh3.googleusercontent.com/a-/AAuE7mBbTyW1QUZdripf6tUgOZTbughaHmsdXp-6K7Lz=s64",
      "userId": "16678658602905794969"
     },
     "user_tz": -480
    },
    "id": "AxGi02yvx1Go",
    "outputId": "adf4e855-9e17-4555-8c2e-db8cec681c41"
   },
   "outputs": [
    {
     "name": "stdout",
     "output_type": "stream",
     "text": [
      "Collecting captcha\n",
      "\u001b[?25l  Downloading https://files.pythonhosted.org/packages/90/fe/d4ddf1e6576073b5eaea76e9b2afa022c626212a30c871968480be3ccb7b/captcha-0.3-py3-none-any.whl (101kB)\n",
      "\r",
      "\u001b[K     |███▎                            | 10kB 26.3MB/s eta 0:00:01\r",
      "\u001b[K     |██████▌                         | 20kB 6.6MB/s eta 0:00:01\r",
      "\u001b[K     |█████████▊                      | 30kB 7.8MB/s eta 0:00:01\r",
      "\u001b[K     |█████████████                   | 40kB 6.1MB/s eta 0:00:01\r",
      "\u001b[K     |████████████████▏               | 51kB 6.5MB/s eta 0:00:01\r",
      "\u001b[K     |███████████████████▍            | 61kB 7.6MB/s eta 0:00:01\r",
      "\u001b[K     |██████████████████████▋         | 71kB 8.2MB/s eta 0:00:01\r",
      "\u001b[K     |█████████████████████████▉      | 81kB 7.6MB/s eta 0:00:01\r",
      "\u001b[K     |█████████████████████████████   | 92kB 8.5MB/s eta 0:00:01\r",
      "\u001b[K     |████████████████████████████████| 102kB 5.4MB/s \n",
      "\u001b[?25hRequirement already satisfied: Pillow in /usr/local/lib/python3.6/dist-packages (from captcha) (4.3.0)\n",
      "Requirement already satisfied: olefile in /usr/local/lib/python3.6/dist-packages (from Pillow->captcha) (0.46)\n",
      "Installing collected packages: captcha\n",
      "Successfully installed captcha-0.3\n"
     ]
    }
   ],
   "source": [
    "!pip install captcha"
   ]
  },
  {
   "cell_type": "markdown",
   "metadata": {
    "colab_type": "text",
    "id": "58ZjTrSNmaik"
   },
   "source": [
    "## 產生驗證碼"
   ]
  },
  {
   "cell_type": "code",
   "execution_count": 5,
   "metadata": {
    "colab": {
     "base_uri": "https://localhost:8080/",
     "height": 254
    },
    "colab_type": "code",
    "executionInfo": {
     "elapsed": 1636,
     "status": "ok",
     "timestamp": 1577171882954,
     "user": {
      "displayName": "Emily Chou",
      "photoUrl": "https://lh3.googleusercontent.com/a-/AAuE7mBbTyW1QUZdripf6tUgOZTbughaHmsdXp-6K7Lz=s64",
      "userId": "16678658602905794969"
     },
     "user_tz": -480
    },
    "id": "h2VVCBKwk6Zv",
    "outputId": "9809748e-9236-43d4-ea40-58c65efdbb96"
   },
   "outputs": [
    {
     "name": "stdout",
     "output_type": "stream",
     "text": [
      "0123456789ABCDEFGHIJKLMNOPQRSTUVWXYZ\n"
     ]
    },
    {
     "data": {
      "text/plain": [
       "Text(0.5, 1.0, 'PAE1')"
      ]
     },
     "execution_count": 5,
     "metadata": {
      "tags": []
     },
     "output_type": "execute_result"
    },
    {
     "data": {
      "image/png": "[encoded data removed]",
      "text/plain": [
       "<Figure size 432x288 with 1 Axes>"
      ]
     },
     "metadata": {
      "image/png": {
       "height": 203,
       "width": 369
      },
      "tags": []
     },
     "output_type": "display_data"
    }
   ],
   "source": [
    "from captcha.image import ImageCaptcha\n",
    "import matplotlib.pyplot as plt\n",
    "import numpy as np\n",
    "import random\n",
    "\n",
    "%matplotlib inline\n",
    "%config InlineBackend.figure_format = 'retina'\n",
    "\n",
    "import string\n",
    "##驗證碼包含0-10數字以及26個英文字母\n",
    "characters = string.digits + string.ascii_uppercase\n",
    "print(characters)\n",
    "\n",
    "##設定產生圖片尺寸，以及總類別，n_class之所以要加一是為了留一個位置給Blank\n",
    "width, height, n_len, n_class = 170, 80, 4, len(characters)+1\n",
    "\n",
    "##設定產生驗證碼的generator\n",
    "generator = ImageCaptcha(width=width, height=height)\n",
    "\n",
    "##我們先練習固定長度4個字的驗證碼\n",
    "random_str = ''.join([random.choice(characters) for j in range(4)])\n",
    "img = generator.generate_image(random_str)\n",
    "\n",
    "plt.imshow(img)\n",
    "plt.title(random_str)"
   ]
  },
  {
   "cell_type": "markdown",
   "metadata": {
    "colab_type": "text",
    "id": "QVkRlWkEmain"
   },
   "source": [
    "## 自己搭建一個CNN模型使得output feature Map 高度被壓縮成小於4，8<寬度<20\n",
    "#### 解答的output feature Map 為 (batch_size,1,13,32)"
   ]
  },
  {
   "cell_type": "code",
   "execution_count": 6,
   "metadata": {
    "colab": {
     "base_uri": "https://localhost:8080/",
     "height": 79
    },
    "colab_type": "code",
    "executionInfo": {
     "elapsed": 2328,
     "status": "ok",
     "timestamp": 1577171889109,
     "user": {
      "displayName": "Emily Chou",
      "photoUrl": "https://lh3.googleusercontent.com/a-/AAuE7mBbTyW1QUZdripf6tUgOZTbughaHmsdXp-6K7Lz=s64",
      "userId": "16678658602905794969"
     },
     "user_tz": -480
    },
    "id": "4YvbAt1Gmaio",
    "outputId": "3a942e08-ec65-438e-d5ba-30ab3e69ea99"
   },
   "outputs": [
    {
     "name": "stderr",
     "output_type": "stream",
     "text": [
      "Using TensorFlow backend.\n"
     ]
    },
    {
     "data": {
      "text/html": [
       "<p style=\"color: red;\">\n",
       "The default version of TensorFlow in Colab will soon switch to TensorFlow 2.x.<br>\n",
       "We recommend you <a href=\"https://www.tensorflow.org/guide/migrate\" target=\"_blank\">upgrade</a> now \n",
       "or ensure your notebook will continue to use TensorFlow 1.x via the <code>%tensorflow_version 1.x</code> magic:\n",
       "<a href=\"https://colab.research.google.com/notebooks/tensorflow_version.ipynb\" target=\"_blank\">more info</a>.</p>\n"
      ],
      "text/plain": [
       "<IPython.core.display.HTML object>"
      ]
     },
     "metadata": {
      "tags": []
     },
     "output_type": "display_data"
    }
   ],
   "source": [
    "import keras\n",
    "from keras.models import *\n",
    "from keras.layers import *"
   ]
  },
  {
   "cell_type": "code",
   "execution_count": 7,
   "metadata": {
    "colab": {
     "base_uri": "https://localhost:8080/",
     "height": 1000
    },
    "colab_type": "code",
    "executionInfo": {
     "elapsed": 10811,
     "status": "ok",
     "timestamp": 1577171902776,
     "user": {
      "displayName": "Emily Chou",
      "photoUrl": "https://lh3.googleusercontent.com/a-/AAuE7mBbTyW1QUZdripf6tUgOZTbughaHmsdXp-6K7Lz=s64",
      "userId": "16678658602905794969"
     },
     "user_tz": -480
    },
    "id": "KX3Jq1sClGGn",
    "outputId": "fddd0841-e152-456e-d189-521f69fe9d24"
   },
   "outputs": [
    {
     "name": "stdout",
     "output_type": "stream",
     "text": [
      "height=80,width=170\n",
      "WARNING:tensorflow:From /usr/local/lib/python3.6/dist-packages/keras/backend/tensorflow_backend.py:66: The name tf.get_default_graph is deprecated. Please use tf.compat.v1.get_default_graph instead.\n",
      "\n",
      "WARNING:tensorflow:From /usr/local/lib/python3.6/dist-packages/keras/backend/tensorflow_backend.py:541: The name tf.placeholder is deprecated. Please use tf.compat.v1.placeholder instead.\n",
      "\n",
      "WARNING:tensorflow:From /usr/local/lib/python3.6/dist-packages/keras/backend/tensorflow_backend.py:4432: The name tf.random_uniform is deprecated. Please use tf.random.uniform instead.\n",
      "\n",
      "WARNING:tensorflow:From /usr/local/lib/python3.6/dist-packages/keras/backend/tensorflow_backend.py:190: The name tf.get_default_session is deprecated. Please use tf.compat.v1.get_default_session instead.\n",
      "\n",
      "WARNING:tensorflow:From /usr/local/lib/python3.6/dist-packages/keras/backend/tensorflow_backend.py:197: The name tf.ConfigProto is deprecated. Please use tf.compat.v1.ConfigProto instead.\n",
      "\n",
      "WARNING:tensorflow:From /usr/local/lib/python3.6/dist-packages/keras/backend/tensorflow_backend.py:203: The name tf.Session is deprecated. Please use tf.compat.v1.Session instead.\n",
      "\n",
      "WARNING:tensorflow:From /usr/local/lib/python3.6/dist-packages/keras/backend/tensorflow_backend.py:207: The name tf.global_variables is deprecated. Please use tf.compat.v1.global_variables instead.\n",
      "\n",
      "WARNING:tensorflow:From /usr/local/lib/python3.6/dist-packages/keras/backend/tensorflow_backend.py:216: The name tf.is_variable_initialized is deprecated. Please use tf.compat.v1.is_variable_initialized instead.\n",
      "\n",
      "WARNING:tensorflow:From /usr/local/lib/python3.6/dist-packages/keras/backend/tensorflow_backend.py:223: The name tf.variables_initializer is deprecated. Please use tf.compat.v1.variables_initializer instead.\n",
      "\n",
      "WARNING:tensorflow:From /usr/local/lib/python3.6/dist-packages/keras/backend/tensorflow_backend.py:2041: The name tf.nn.fused_batch_norm is deprecated. Please use tf.compat.v1.nn.fused_batch_norm instead.\n",
      "\n",
      "WARNING:tensorflow:From /usr/local/lib/python3.6/dist-packages/keras/backend/tensorflow_backend.py:148: The name tf.placeholder_with_default is deprecated. Please use tf.compat.v1.placeholder_with_default instead.\n",
      "\n",
      "WARNING:tensorflow:From /usr/local/lib/python3.6/dist-packages/keras/backend/tensorflow_backend.py:4267: The name tf.nn.max_pool is deprecated. Please use tf.nn.max_pool2d instead.\n",
      "\n",
      "Model: \"mycnn\"\n",
      "_________________________________________________________________\n",
      "Layer (type)                 Output Shape              Param #   \n",
      "=================================================================\n",
      "input_1 (InputLayer)         (None, 80, 170, 3)        0         \n",
      "_________________________________________________________________\n",
      "conv2d_a (Conv2D)            (None, 78, 168, 32)       896       \n",
      "_________________________________________________________________\n",
      "batch_normalization_1 (Batch (None, 78, 168, 32)       128       \n",
      "_________________________________________________________________\n",
      "conv2d_a_0 (Conv2D)          (None, 76, 166, 32)       9248      \n",
      "_________________________________________________________________\n",
      "batch_normalization_2 (Batch (None, 76, 166, 32)       128       \n",
      "_________________________________________________________________\n",
      "conv2d_b_0 (Conv2D)          (None, 74, 164, 32)       9248      \n",
      "_________________________________________________________________\n",
      "batch_normalization_3 (Batch (None, 74, 164, 32)       128       \n",
      "_________________________________________________________________\n",
      "max_pooling2d_0 (MaxPooling2 (None, 37, 82, 32)        0         \n",
      "_________________________________________________________________\n",
      "conv2d_a_1 (Conv2D)          (None, 35, 80, 32)        9248      \n",
      "_________________________________________________________________\n",
      "batch_normalization_4 (Batch (None, 35, 80, 32)        128       \n",
      "_________________________________________________________________\n",
      "conv2d_b_1 (Conv2D)          (None, 33, 78, 32)        9248      \n",
      "_________________________________________________________________\n",
      "batch_normalization_5 (Batch (None, 33, 78, 32)        128       \n",
      "_________________________________________________________________\n",
      "max_pooling2d_1 (MaxPooling2 (None, 16, 39, 32)        0         \n",
      "_________________________________________________________________\n",
      "conv2d_a_2 (Conv2D)          (None, 14, 37, 32)        9248      \n",
      "_________________________________________________________________\n",
      "batch_normalization_6 (Batch (None, 14, 37, 32)        128       \n",
      "_________________________________________________________________\n",
      "conv2d_b_2 (Conv2D)          (None, 12, 35, 32)        9248      \n",
      "_________________________________________________________________\n",
      "batch_normalization_7 (Batch (None, 12, 35, 32)        128       \n",
      "_________________________________________________________________\n",
      "max_pooling2d_2 (MaxPooling2 (None, 6, 17, 32)         0         \n",
      "_________________________________________________________________\n",
      "conv2d_a_3 (Conv2D)          (None, 4, 15, 32)         9248      \n",
      "_________________________________________________________________\n",
      "batch_normalization_8 (Batch (None, 4, 15, 32)         128       \n",
      "_________________________________________________________________\n",
      "conv2d_b_3 (Conv2D)          (None, 2, 13, 32)         9248      \n",
      "_________________________________________________________________\n",
      "batch_normalization_9 (Batch (None, 2, 13, 32)         128       \n",
      "_________________________________________________________________\n",
      "max_pooling2d_3 (MaxPooling2 (None, 1, 13, 32)         0         \n",
      "=================================================================\n",
      "Total params: 76,032\n",
      "Trainable params: 75,456\n",
      "Non-trainable params: 576\n",
      "_________________________________________________________________\n"
     ]
    }
   ],
   "source": [
    "\n",
    "rnn_size = 128\n",
    "print('height={},width={}'.format(height,width))\n",
    "\n",
    "input_tensor = Input((height,width, 3))\n",
    "x = input_tensor\n",
    "\n",
    "'''自己設計CNN層'''\n",
    "def my_cnn(x):    \n",
    "    #img_input = Input(shape=input_shape)\n",
    "    img_input = x\n",
    "    y = Conv2D(32, (3,3), activation='relu', padding='valid', name='conv2d_a')(img_input)\n",
    "    y = BatchNormalization()(y)\n",
    "    for i in range(4):     \n",
    "        y = Conv2D(32, (3,3), activation='relu', padding='valid', name='conv2d_a_'+str(i))(y)\n",
    "        y = BatchNormalization()(y)                 \n",
    "        y = Conv2D(32, (3, 3),  activation='relu', padding='valid', name='conv2d_b_'+str(i))(y) \n",
    "        y = BatchNormalization()(y)\n",
    "        if i<3:    \n",
    "          y = MaxPooling2D( (2,2) ,name='max_pooling2d_'+str(i))(y)\n",
    "        else:\n",
    "          y = MaxPooling2D( (2,1) ,name='max_pooling2d_'+str(i))(y)\n",
    "\n",
    "    inputs = img_input\n",
    "    # Create model.\n",
    "    model = Model(x, y, name='mycnn')\n",
    "    return model\n",
    "    \n",
    "    \n",
    "m = my_cnn(x)\n",
    "m.summary()\n",
    "x = m.output\n",
    "\n"
   ]
  },
  {
   "cell_type": "code",
   "execution_count": 0,
   "metadata": {
    "colab": {},
    "colab_type": "code",
    "id": "w4A8-6mCmait"
   },
   "outputs": [],
   "source": [
    "from keras import backend as K\n",
    "import keras\n",
    "\n",
    "##CTC Loss需要四個資訊，分別是\n",
    "## Label\n",
    "## 預測\n",
    "## CNN OUTPUT寬度\n",
    "## 預測影像所包含文字長度\n",
    "def ctc_lambda_func(args):\n",
    "    y_pred, labels, input_length, label_length = args\n",
    "    return K.ctc_batch_cost(labels, y_pred, input_length, label_length)"
   ]
  },
  {
   "cell_type": "code",
   "execution_count": 9,
   "metadata": {
    "colab": {
     "base_uri": "https://localhost:8080/",
     "height": 306
    },
    "colab_type": "code",
    "executionInfo": {
     "elapsed": 1123,
     "status": "ok",
     "timestamp": 1577171908442,
     "user": {
      "displayName": "Emily Chou",
      "photoUrl": "https://lh3.googleusercontent.com/a-/AAuE7mBbTyW1QUZdripf6tUgOZTbughaHmsdXp-6K7Lz=s64",
      "userId": "16678658602905794969"
     },
     "user_tz": -480
    },
    "id": "wUeosGPnmaiv",
    "outputId": "58106947-9313-4b9d-f819-e605698b5436"
   },
   "outputs": [
    {
     "name": "stdout",
     "output_type": "stream",
     "text": [
      "conv_shape= (?, 1, 13, 32)\n",
      "WARNING:tensorflow:From /usr/local/lib/python3.6/dist-packages/keras/backend/tensorflow_backend.py:3733: calling dropout (from tensorflow.python.ops.nn_ops) with keep_prob is deprecated and will be removed in a future version.\n",
      "Instructions for updating:\n",
      "Please use `rate` instead of `keep_prob`. Rate should be set to `rate = 1 - keep_prob`.\n",
      "WARNING:tensorflow:From /usr/local/lib/python3.6/dist-packages/tensorflow_core/python/ops/array_ops.py:1475: where (from tensorflow.python.ops.array_ops) is deprecated and will be removed in a future version.\n",
      "Instructions for updating:\n",
      "Use tf.where in 2.0, which has the same broadcast rule as np.where\n",
      "WARNING:tensorflow:From /usr/local/lib/python3.6/dist-packages/keras/backend/tensorflow_backend.py:4551: The name tf.log is deprecated. Please use tf.math.log instead.\n",
      "\n",
      "WARNING:tensorflow:From /usr/local/lib/python3.6/dist-packages/keras/optimizers.py:793: The name tf.train.Optimizer is deprecated. Please use tf.compat.v1.train.Optimizer instead.\n",
      "\n"
     ]
    },
    {
     "name": "stderr",
     "output_type": "stream",
     "text": [
      "/usr/local/lib/python3.6/dist-packages/ipykernel_launcher.py:9: UserWarning: Update your `Dense` call to the Keras 2 API: `Dense(activation=\"relu\", units=13)`\n",
      "  if __name__ == '__main__':\n",
      "/usr/local/lib/python3.6/dist-packages/ipykernel_launcher.py:16: UserWarning: Update your `Model` call to the Keras 2 API: `Model(inputs=Tensor(\"in..., outputs=Tensor(\"de...)`\n",
      "  app.launch_new_instance()\n",
      "/usr/local/lib/python3.6/dist-packages/ipykernel_launcher.py:27: UserWarning: Update your `Model` call to the Keras 2 API: `Model(inputs=[<tf.Tenso..., outputs=[<tf.Tenso...)`\n"
     ]
    }
   ],
   "source": [
    "##記錄輸出CNN尺寸，loss部分需要這個資訊\n",
    "##conv_shape=(Batch_size,輸出高度,輸出寬度,輸出深度)\n",
    "conv_shape = x.get_shape()\n",
    "print(\"conv_shape=\",conv_shape)\n",
    "\n",
    "\n",
    "##從(Batch_size,輸出高度,輸出寬度,輸出深度)變成(Batch_size,輸出寬度,輸出深度*輸出高度)，以符合ctc loss需求\n",
    "x = Reshape(target_shape=(int(conv_shape[2]), int(conv_shape[1]*conv_shape[3])))(x)\n",
    "\n",
    "#x = Dense('自己設計', activation='relu')(x)\n",
    "x = Dense(output_dim=13, activation='relu')(x)\n",
    "\n",
    "x = Dropout(0.25)(x)\n",
    "x = Dense(n_class, activation='softmax')(x)\n",
    "\n",
    "\n",
    "##包裝用來預測的model\n",
    "base_model = Model(input=input_tensor, output=x)\n",
    "\n",
    "\n",
    "##設定要給CTC Loss的資訊\n",
    "labels = Input(name='the_labels', shape=[n_len], dtype='float32')\n",
    "input_length = Input(name='input_length', shape=[1], dtype='int64')\n",
    "label_length = Input(name='label_length', shape=[1], dtype='int64')\n",
    "loss_out = Lambda(ctc_lambda_func, output_shape=(1,), \n",
    "                  name='ctc')([x, labels, input_length, label_length])\n",
    "\n",
    "##這裡的model是用來計算loss\n",
    "model = Model(input=[input_tensor, labels, input_length, label_length], output=[loss_out])\n",
    "from tensorflow.keras.layers import InputLayer\n",
    "##之所以要lambda y_true, y_pred: y_pred是因為我們的loss已經包在網路裡，會output:y_true, y_pred，而我們只需要y_pred\n",
    "model.compile(loss={'ctc': lambda y_true, y_pred: y_pred}, optimizer='SGD')"
   ]
  },
  {
   "cell_type": "code",
   "execution_count": 10,
   "metadata": {
    "colab": {
     "base_uri": "https://localhost:8080/",
     "height": 1000
    },
    "colab_type": "code",
    "executionInfo": {
     "elapsed": 922,
     "status": "ok",
     "timestamp": 1577171914208,
     "user": {
      "displayName": "Emily Chou",
      "photoUrl": "https://lh3.googleusercontent.com/a-/AAuE7mBbTyW1QUZdripf6tUgOZTbughaHmsdXp-6K7Lz=s64",
      "userId": "16678658602905794969"
     },
     "user_tz": -480
    },
    "id": "m1YRv0TVN_FL",
    "outputId": "4455fd75-8fcf-44ca-e04b-ffdc2bb052e7"
   },
   "outputs": [
    {
     "name": "stdout",
     "output_type": "stream",
     "text": [
      "Model: \"model_2\"\n",
      "__________________________________________________________________________________________________\n",
      "Layer (type)                    Output Shape         Param #     Connected to                     \n",
      "==================================================================================================\n",
      "input_1 (InputLayer)            (None, 80, 170, 3)   0                                            \n",
      "__________________________________________________________________________________________________\n",
      "conv2d_a (Conv2D)               (None, 78, 168, 32)  896         input_1[0][0]                    \n",
      "__________________________________________________________________________________________________\n",
      "batch_normalization_1 (BatchNor (None, 78, 168, 32)  128         conv2d_a[0][0]                   \n",
      "__________________________________________________________________________________________________\n",
      "conv2d_a_0 (Conv2D)             (None, 76, 166, 32)  9248        batch_normalization_1[0][0]      \n",
      "__________________________________________________________________________________________________\n",
      "batch_normalization_2 (BatchNor (None, 76, 166, 32)  128         conv2d_a_0[0][0]                 \n",
      "__________________________________________________________________________________________________\n",
      "conv2d_b_0 (Conv2D)             (None, 74, 164, 32)  9248        batch_normalization_2[0][0]      \n",
      "__________________________________________________________________________________________________\n",
      "batch_normalization_3 (BatchNor (None, 74, 164, 32)  128         conv2d_b_0[0][0]                 \n",
      "__________________________________________________________________________________________________\n",
      "max_pooling2d_0 (MaxPooling2D)  (None, 37, 82, 32)   0           batch_normalization_3[0][0]      \n",
      "__________________________________________________________________________________________________\n",
      "conv2d_a_1 (Conv2D)             (None, 35, 80, 32)   9248        max_pooling2d_0[0][0]            \n",
      "__________________________________________________________________________________________________\n",
      "batch_normalization_4 (BatchNor (None, 35, 80, 32)   128         conv2d_a_1[0][0]                 \n",
      "__________________________________________________________________________________________________\n",
      "conv2d_b_1 (Conv2D)             (None, 33, 78, 32)   9248        batch_normalization_4[0][0]      \n",
      "__________________________________________________________________________________________________\n",
      "batch_normalization_5 (BatchNor (None, 33, 78, 32)   128         conv2d_b_1[0][0]                 \n",
      "__________________________________________________________________________________________________\n",
      "max_pooling2d_1 (MaxPooling2D)  (None, 16, 39, 32)   0           batch_normalization_5[0][0]      \n",
      "__________________________________________________________________________________________________\n",
      "conv2d_a_2 (Conv2D)             (None, 14, 37, 32)   9248        max_pooling2d_1[0][0]            \n",
      "__________________________________________________________________________________________________\n",
      "batch_normalization_6 (BatchNor (None, 14, 37, 32)   128         conv2d_a_2[0][0]                 \n",
      "__________________________________________________________________________________________________\n",
      "conv2d_b_2 (Conv2D)             (None, 12, 35, 32)   9248        batch_normalization_6[0][0]      \n",
      "__________________________________________________________________________________________________\n",
      "batch_normalization_7 (BatchNor (None, 12, 35, 32)   128         conv2d_b_2[0][0]                 \n",
      "__________________________________________________________________________________________________\n",
      "max_pooling2d_2 (MaxPooling2D)  (None, 6, 17, 32)    0           batch_normalization_7[0][0]      \n",
      "__________________________________________________________________________________________________\n",
      "conv2d_a_3 (Conv2D)             (None, 4, 15, 32)    9248        max_pooling2d_2[0][0]            \n",
      "__________________________________________________________________________________________________\n",
      "batch_normalization_8 (BatchNor (None, 4, 15, 32)    128         conv2d_a_3[0][0]                 \n",
      "__________________________________________________________________________________________________\n",
      "conv2d_b_3 (Conv2D)             (None, 2, 13, 32)    9248        batch_normalization_8[0][0]      \n",
      "__________________________________________________________________________________________________\n",
      "batch_normalization_9 (BatchNor (None, 2, 13, 32)    128         conv2d_b_3[0][0]                 \n",
      "__________________________________________________________________________________________________\n",
      "max_pooling2d_3 (MaxPooling2D)  (None, 1, 13, 32)    0           batch_normalization_9[0][0]      \n",
      "__________________________________________________________________________________________________\n",
      "reshape_1 (Reshape)             (None, 13, 32)       0           max_pooling2d_3[0][0]            \n",
      "__________________________________________________________________________________________________\n",
      "dense_1 (Dense)                 (None, 13, 13)       429         reshape_1[0][0]                  \n",
      "__________________________________________________________________________________________________\n",
      "dropout_1 (Dropout)             (None, 13, 13)       0           dense_1[0][0]                    \n",
      "__________________________________________________________________________________________________\n",
      "dense_2 (Dense)                 (None, 13, 37)       518         dropout_1[0][0]                  \n",
      "__________________________________________________________________________________________________\n",
      "the_labels (InputLayer)         (None, 4)            0                                            \n",
      "__________________________________________________________________________________________________\n",
      "input_length (InputLayer)       (None, 1)            0                                            \n",
      "__________________________________________________________________________________________________\n",
      "label_length (InputLayer)       (None, 1)            0                                            \n",
      "__________________________________________________________________________________________________\n",
      "ctc (Lambda)                    (None, 1)            0           dense_2[0][0]                    \n",
      "                                                                 the_labels[0][0]                 \n",
      "                                                                 input_length[0][0]               \n",
      "                                                                 label_length[0][0]               \n",
      "==================================================================================================\n",
      "Total params: 76,979\n",
      "Trainable params: 76,403\n",
      "Non-trainable params: 576\n",
      "__________________________________________________________________________________________________\n"
     ]
    }
   ],
   "source": [
    "model.summary()"
   ]
  },
  {
   "cell_type": "code",
   "execution_count": 0,
   "metadata": {
    "colab": {},
    "colab_type": "code",
    "id": "aZp3HHh1maiz"
   },
   "outputs": [],
   "source": [
    "from keras import backend as K\n",
    "import keras\n",
    "\n",
    "##CTC Loss需要四個資訊，分別是\n",
    "## Label\n",
    "## 預測\n",
    "## CNN OUTPUT寬度\n",
    "## 預測影像所包含文字長度\n",
    "def ctc_lambda_func(args):\n",
    "    y_pred, labels, input_length, label_length = args\n",
    "    return K.ctc_batch_cost(labels, y_pred, input_length, label_length)"
   ]
  },
  {
   "cell_type": "code",
   "execution_count": 0,
   "metadata": {
    "colab": {},
    "colab_type": "code",
    "id": "5Jzb1YnqlJug"
   },
   "outputs": [],
   "source": [
    "##設計generator產生training data\n",
    "## 產生包含要給loss的資訊\n",
    "## X=輸入影像\n",
    "## np.ones(batch_size)*int(conv_shape[2])=CNN輸出feature Map寬度\n",
    "## np.ones(batch_size)*n_len=字串長度(可浮動)\n",
    "\n",
    "def gen(batch_size=128):\n",
    "    X = np.zeros((batch_size,height, width, 3), dtype=np.uint8)\n",
    "    y = np.zeros((batch_size, n_len), dtype=np.uint8)\n",
    "    while True:\n",
    "        generator = ImageCaptcha(width=width, height=height)\n",
    "        for i in range(batch_size):\n",
    "            random_str = ''.join([random.choice(characters) for j in range(4)])\n",
    "            X[i] = np.array(generator.generate_image(random_str))\n",
    "            y[i] = [characters.find(x) for x in random_str]\n",
    "        yield [X, y,np.ones(batch_size)*int(conv_shape[2]), np.ones(batch_size)*n_len], np.ones(batch_size)"
   ]
  },
  {
   "cell_type": "code",
   "execution_count": 12,
   "metadata": {
    "colab": {
     "base_uri": "https://localhost:8080/",
     "height": 258
    },
    "colab_type": "code",
    "executionInfo": {
     "elapsed": 1692,
     "status": "ok",
     "timestamp": 1577171931619,
     "user": {
      "displayName": "Emily Chou",
      "photoUrl": "https://lh3.googleusercontent.com/a-/AAuE7mBbTyW1QUZdripf6tUgOZTbughaHmsdXp-6K7Lz=s64",
      "userId": "16678658602905794969"
     },
     "user_tz": -480
    },
    "id": "dfcFs6InVQaT",
    "outputId": "d513fa4b-0003-49de-a3f5-ec7cf0ff5089"
   },
   "outputs": [
    {
     "name": "stdout",
     "output_type": "stream",
     "text": [
      "Label:  [[ 7  4 23 35]]\n",
      "CNN輸出寬度:  [13.]\n",
      "字串長度(可浮動):  [4.]\n"
     ]
    },
    {
     "data": {
      "image/png": "[encoded data removed]",
      "text/plain": [
       "<Figure size 432x288 with 1 Axes>"
      ]
     },
     "metadata": {
      "image/png": {
       "height": 191,
       "width": 369
      },
      "tags": []
     },
     "output_type": "display_data"
    }
   ],
   "source": [
    "next_ge=gen(batch_size=1)\n",
    "test_ge=next(next_ge)\n",
    "plt.imshow(test_ge[0][0][0])\n",
    "print('Label: ',test_ge[0][1])\n",
    "print('CNN輸出寬度: ',test_ge[0][2])\n",
    "print('字串長度(可浮動): ',test_ge[0][3])"
   ]
  },
  {
   "cell_type": "markdown",
   "metadata": {
    "colab_type": "text",
    "id": "pkGKL1S2mai6"
   },
   "source": [
    "## 開始訓練"
   ]
  },
  {
   "cell_type": "code",
   "execution_count": 13,
   "metadata": {
    "colab": {
     "base_uri": "https://localhost:8080/",
     "height": 1000
    },
    "colab_type": "code",
    "executionInfo": {
     "elapsed": 2272200,
     "status": "ok",
     "timestamp": 1577174209591,
     "user": {
      "displayName": "Emily Chou",
      "photoUrl": "https://lh3.googleusercontent.com/a-/AAuE7mBbTyW1QUZdripf6tUgOZTbughaHmsdXp-6K7Lz=s64",
      "userId": "16678658602905794969"
     },
     "user_tz": -480
    },
    "id": "fqdKnqollUKj",
    "outputId": "400a34a6-4efa-468e-df7e-e15fbd7d9103"
   },
   "outputs": [
    {
     "name": "stdout",
     "output_type": "stream",
     "text": [
      "WARNING:tensorflow:From /usr/local/lib/python3.6/dist-packages/keras/backend/tensorflow_backend.py:1033: The name tf.assign_add is deprecated. Please use tf.compat.v1.assign_add instead.\n",
      "\n",
      "WARNING:tensorflow:From /usr/local/lib/python3.6/dist-packages/keras/backend/tensorflow_backend.py:1020: The name tf.assign is deprecated. Please use tf.compat.v1.assign instead.\n",
      "\n",
      "Epoch 1/60\n",
      "300/300 [==============================] - 47s 157ms/step - loss: 16.0063\n",
      "Epoch 2/60\n",
      "300/300 [==============================] - 38s 128ms/step - loss: 14.1623\n",
      "Epoch 3/60\n",
      "300/300 [==============================] - 38s 128ms/step - loss: 11.8607\n",
      "Epoch 4/60\n",
      "300/300 [==============================] - 38s 126ms/step - loss: 9.9262\n",
      "Epoch 5/60\n",
      "300/300 [==============================] - 38s 128ms/step - loss: 8.2939\n",
      "Epoch 6/60\n",
      "300/300 [==============================] - 38s 127ms/step - loss: 7.1979\n",
      "Epoch 7/60\n",
      "300/300 [==============================] - 38s 128ms/step - loss: 6.4674\n",
      "Epoch 8/60\n",
      "300/300 [==============================] - 38s 127ms/step - loss: 5.9871\n",
      "Epoch 9/60\n",
      "300/300 [==============================] - 38s 128ms/step - loss: 5.6618\n",
      "Epoch 10/60\n",
      "300/300 [==============================] - 38s 127ms/step - loss: 5.3910\n",
      "Epoch 11/60\n",
      "300/300 [==============================] - 38s 127ms/step - loss: 5.2125\n",
      "Epoch 12/60\n",
      "300/300 [==============================] - 38s 127ms/step - loss: 5.0331\n",
      "Epoch 13/60\n",
      "300/300 [==============================] - 38s 127ms/step - loss: 4.9299\n",
      "Epoch 14/60\n",
      "300/300 [==============================] - 38s 126ms/step - loss: 4.8305\n",
      "Epoch 15/60\n",
      "300/300 [==============================] - 38s 126ms/step - loss: 4.7611\n",
      "Epoch 16/60\n",
      "300/300 [==============================] - 38s 127ms/step - loss: 4.7103\n",
      "Epoch 17/60\n",
      "300/300 [==============================] - 38s 127ms/step - loss: 4.7228\n",
      "Epoch 18/60\n",
      "300/300 [==============================] - 38s 127ms/step - loss: 4.5750\n",
      "Epoch 19/60\n",
      "300/300 [==============================] - 38s 126ms/step - loss: 4.5335\n",
      "Epoch 20/60\n",
      "300/300 [==============================] - 38s 126ms/step - loss: 4.4830\n",
      "Epoch 21/60\n",
      "300/300 [==============================] - 38s 125ms/step - loss: 4.4608\n",
      "Epoch 22/60\n",
      "300/300 [==============================] - 38s 127ms/step - loss: 4.3845\n",
      "Epoch 23/60\n",
      "300/300 [==============================] - 38s 126ms/step - loss: 4.3398\n",
      "Epoch 24/60\n",
      "300/300 [==============================] - 38s 126ms/step - loss: 4.3202\n",
      "Epoch 25/60\n",
      "300/300 [==============================] - 38s 127ms/step - loss: 4.3121\n",
      "Epoch 26/60\n",
      "300/300 [==============================] - 38s 126ms/step - loss: 4.1766\n",
      "Epoch 27/60\n",
      "300/300 [==============================] - 38s 126ms/step - loss: 4.2769\n",
      "Epoch 28/60\n",
      "300/300 [==============================] - 38s 128ms/step - loss: 4.1557\n",
      "Epoch 29/60\n",
      "300/300 [==============================] - 38s 128ms/step - loss: 4.2126\n",
      "Epoch 30/60\n",
      "300/300 [==============================] - 39s 129ms/step - loss: 4.1534\n",
      "Epoch 31/60\n",
      "300/300 [==============================] - 38s 128ms/step - loss: 4.0299\n",
      "Epoch 32/60\n",
      "300/300 [==============================] - 38s 125ms/step - loss: 4.0672\n",
      "Epoch 33/60\n",
      "300/300 [==============================] - 37s 125ms/step - loss: 4.0601\n",
      "Epoch 34/60\n",
      "300/300 [==============================] - 37s 125ms/step - loss: 3.9640\n",
      "Epoch 35/60\n",
      "300/300 [==============================] - 38s 126ms/step - loss: 3.9362\n",
      "Epoch 36/60\n",
      "300/300 [==============================] - 39s 130ms/step - loss: 3.8829\n",
      "Epoch 37/60\n",
      "300/300 [==============================] - 38s 126ms/step - loss: 3.8447\n",
      "Epoch 38/60\n",
      "300/300 [==============================] - 38s 126ms/step - loss: 3.8692\n",
      "Epoch 39/60\n",
      "300/300 [==============================] - 38s 125ms/step - loss: 3.8421\n",
      "Epoch 40/60\n",
      "300/300 [==============================] - 38s 126ms/step - loss: 3.7265\n",
      "Epoch 41/60\n",
      "300/300 [==============================] - 38s 127ms/step - loss: 3.6783\n",
      "Epoch 42/60\n",
      "300/300 [==============================] - 38s 127ms/step - loss: 3.7298\n",
      "Epoch 43/60\n",
      "300/300 [==============================] - 38s 126ms/step - loss: 3.6688\n",
      "Epoch 44/60\n",
      "300/300 [==============================] - 38s 125ms/step - loss: 3.6906\n",
      "Epoch 45/60\n",
      "300/300 [==============================] - 38s 126ms/step - loss: 3.6610\n",
      "Epoch 46/60\n",
      "300/300 [==============================] - 37s 124ms/step - loss: 3.5661\n",
      "Epoch 47/60\n",
      "300/300 [==============================] - 37s 124ms/step - loss: 3.5280\n",
      "Epoch 48/60\n",
      "300/300 [==============================] - 37s 122ms/step - loss: 3.5157\n",
      "Epoch 49/60\n",
      "300/300 [==============================] - 36s 122ms/step - loss: 3.4658\n",
      "Epoch 50/60\n",
      "300/300 [==============================] - 37s 123ms/step - loss: 3.4295\n",
      "Epoch 51/60\n",
      "300/300 [==============================] - 37s 122ms/step - loss: 3.4179\n",
      "Epoch 52/60\n",
      "300/300 [==============================] - 37s 122ms/step - loss: 3.3784\n",
      "Epoch 53/60\n",
      "300/300 [==============================] - 36s 122ms/step - loss: 3.3648\n",
      "Epoch 54/60\n",
      "300/300 [==============================] - 37s 122ms/step - loss: 3.2874\n",
      "Epoch 55/60\n",
      "300/300 [==============================] - 36s 121ms/step - loss: 3.3240\n",
      "Epoch 56/60\n",
      "300/300 [==============================] - 36s 121ms/step - loss: 3.2845\n",
      "Epoch 57/60\n",
      "300/300 [==============================] - 36s 121ms/step - loss: 3.2327\n",
      "Epoch 58/60\n",
      "300/300 [==============================] - 37s 122ms/step - loss: 3.1908\n",
      "Epoch 59/60\n",
      "300/300 [==============================] - 37s 123ms/step - loss: 3.1605\n",
      "Epoch 60/60\n",
      "300/300 [==============================] - 37s 122ms/step - loss: 3.1413\n"
     ]
    },
    {
     "data": {
      "text/plain": [
       "<keras.callbacks.History at 0x7f249c0d4f98>"
      ]
     },
     "execution_count": 13,
     "metadata": {
      "tags": []
     },
     "output_type": "execute_result"
    }
   ],
   "source": [
    "model.fit_generator(gen(32), steps_per_epoch=300, epochs=60) #gen()32張圖字做為train的樣本，此為訓練loss fun（ctc），讓loss值愈來愈小"
   ]
  },
  {
   "cell_type": "markdown",
   "metadata": {
    "colab_type": "text",
    "id": "UpC7lo5Omai9"
   },
   "source": [
    "## 預測"
   ]
  },
  {
   "cell_type": "code",
   "execution_count": 15,
   "metadata": {
    "colab": {
     "base_uri": "https://localhost:8080/",
     "height": 234
    },
    "colab_type": "code",
    "executionInfo": {
     "elapsed": 1274,
     "status": "ok",
     "timestamp": 1577176403612,
     "user": {
      "displayName": "Emily Chou",
      "photoUrl": "https://lh3.googleusercontent.com/a-/AAuE7mBbTyW1QUZdripf6tUgOZTbughaHmsdXp-6K7Lz=s64",
      "userId": "16678658602905794969"
     },
     "user_tz": -480
    },
    "id": "xiJJDLTFlXkb",
    "outputId": "7c9193ff-706f-4da6-ca6c-016e1361d6d5"
   },
   "outputs": [
    {
     "data": {
      "image/png": "[encoded data removed]",
      "text/plain": [
       "<Figure size 432x288 with 1 Axes>"
      ]
     },
     "metadata": {
      "image/png": {
       "height": 217,
       "width": 369
      },
      "tags": []
     },
     "output_type": "display_data"
    }
   ],
   "source": [
    "characters2 = characters + ' '\n",
    "[X_test, y_test, _, _], _  = next(gen(1))\n",
    "y_pred = base_model.predict(X_test) #base_model + model(自己寫好的ctc loss function)\n",
    "##用ctc_decode得到解答，自己寫可以參考下方\n",
    "out = K.get_value(K.ctc_decode(y_pred, input_length=np.ones(y_pred.shape[0])*y_pred.shape[1], )[0][0])\n",
    "out = ''.join([characters[x] for x in out[0]])\n",
    "y_true = ''.join([characters[x] for x in y_test[0]])\n",
    "\n",
    "plt.imshow(X_test[0])\n",
    "plt.title('pred:' + str(out) + '\\ntrue: ' + str(y_true))\n",
    "\n",
    "argmax = np.argmax(y_pred, axis=2)[0]\n"
   ]
  },
  {
   "cell_type": "code",
   "execution_count": 16,
   "metadata": {
    "colab": {
     "base_uri": "https://localhost:8080/",
     "height": 34
    },
    "colab_type": "code",
    "executionInfo": {
     "elapsed": 1010,
     "status": "ok",
     "timestamp": 1577176441836,
     "user": {
      "displayName": "Emily Chou",
      "photoUrl": "https://lh3.googleusercontent.com/a-/AAuE7mBbTyW1QUZdripf6tUgOZTbughaHmsdXp-6K7Lz=s64",
      "userId": "16678658602905794969"
     },
     "user_tz": -480
    },
    "id": "HrxcCi4_majA",
    "outputId": "cacb4003-dbde-4952-d320-1a32c2971492"
   },
   "outputs": [
    {
     "data": {
      "text/plain": [
       "'H'"
      ]
     },
     "execution_count": 16,
     "metadata": {
      "tags": []
     },
     "output_type": "execute_result"
    }
   ],
   "source": [
    "characters[17]"
   ]
  },
  {
   "cell_type": "code",
   "execution_count": 17,
   "metadata": {
    "colab": {
     "base_uri": "https://localhost:8080/",
     "height": 34
    },
    "colab_type": "code",
    "executionInfo": {
     "elapsed": 1116,
     "status": "ok",
     "timestamp": 1577176443690,
     "user": {
      "displayName": "Emily Chou",
      "photoUrl": "https://lh3.googleusercontent.com/a-/AAuE7mBbTyW1QUZdripf6tUgOZTbughaHmsdXp-6K7Lz=s64",
      "userId": "16678658602905794969"
     },
     "user_tz": -480
    },
    "id": "zw-ibwWxmajC",
    "outputId": "75d9f372-adb8-4850-b786-99fd6b38c610"
   },
   "outputs": [
    {
     "data": {
      "text/plain": [
       "array([36,  9,  9, 36, 36,  7,  7, 36, 26, 26, 36, 36, 29])"
      ]
     },
     "execution_count": 17,
     "metadata": {
      "tags": []
     },
     "output_type": "execute_result"
    }
   ],
   "source": [
    " y_pred[0].argmax(1)"
   ]
  },
  {
   "cell_type": "markdown",
   "metadata": {
    "colab_type": "text",
    "id": "Kn05R1rMmajE"
   },
   "source": [
    "## 自己寫 decode CTC"
   ]
  },
  {
   "cell_type": "code",
   "execution_count": 0,
   "metadata": {
    "colab": {},
    "colab_type": "code",
    "id": "LVOToKJ6majF"
   },
   "outputs": [],
   "source": [
    "## 其中0代表預測為空格，如果預測相同字符之間沒有空格要移除\n",
    "word=''\n",
    "n=''\n",
    "for single_result in y_pred[0].argmax(1):\n",
    "    if single_result != 36:\n",
    "        if n != single_result:\n",
    "            word+=characters[single_result]\n",
    "    n=single_result "
   ]
  },
  {
   "cell_type": "markdown",
   "metadata": {
    "colab_type": "text",
    "id": "cW6N7K22majH"
   },
   "source": [
    "## 額外參考：加入RNN的神經網路"
   ]
  },
  {
   "cell_type": "code",
   "execution_count": 24,
   "metadata": {
    "colab": {
     "base_uri": "https://localhost:8080/",
     "height": 222
    },
    "colab_type": "code",
    "executionInfo": {
     "elapsed": 3161,
     "status": "ok",
     "timestamp": 1577176628158,
     "user": {
      "displayName": "Emily Chou",
      "photoUrl": "https://lh3.googleusercontent.com/a-/AAuE7mBbTyW1QUZdripf6tUgOZTbughaHmsdXp-6K7Lz=s64",
      "userId": "16678658602905794969"
     },
     "user_tz": -480
    },
    "id": "igH02F4FmajI",
    "outputId": "33e9572b-0108-405f-d715-2ddf664a15d0"
   },
   "outputs": [
    {
     "name": "stderr",
     "output_type": "stream",
     "text": [
      "/usr/local/lib/python3.6/dist-packages/ipykernel_launcher.py:8: UserWarning: Update your `Conv2D` call to the Keras 2 API: `Conv2D(32, (3, 3), activation=\"relu\")`\n",
      "  \n",
      "/usr/local/lib/python3.6/dist-packages/ipykernel_launcher.py:10: UserWarning: Update your `Conv2D` call to the Keras 2 API: `Conv2D(32, (3, 3), activation=\"relu\")`\n",
      "  # Remove the CWD from sys.path while we load stuff.\n",
      "/usr/local/lib/python3.6/dist-packages/ipykernel_launcher.py:23: UserWarning: Update your `GRU` call to the Keras 2 API: `GRU(128, return_sequences=True, name=\"gru1\", kernel_initializer=\"he_normal\")`\n",
      "/usr/local/lib/python3.6/dist-packages/ipykernel_launcher.py:25: UserWarning: Update your `GRU` call to the Keras 2 API: `GRU(128, return_sequences=True, go_backwards=True, name=\"gru1_b\", kernel_initializer=\"he_normal\")`\n",
      "/usr/local/lib/python3.6/dist-packages/ipykernel_launcher.py:28: UserWarning: Update your `GRU` call to the Keras 2 API: `GRU(128, return_sequences=True, name=\"gru2\", kernel_initializer=\"he_normal\")`\n",
      "/usr/local/lib/python3.6/dist-packages/ipykernel_launcher.py:30: UserWarning: Update your `GRU` call to the Keras 2 API: `GRU(128, return_sequences=True, go_backwards=True, name=\"gru2_b\", kernel_initializer=\"he_normal\")`\n",
      "/usr/local/lib/python3.6/dist-packages/ipykernel_launcher.py:34: UserWarning: Update your `Dense` call to the Keras 2 API: `Dense(37, activation=\"softmax\", kernel_initializer=\"he_normal\")`\n",
      "/usr/local/lib/python3.6/dist-packages/ipykernel_launcher.py:36: UserWarning: Update your `Model` call to the Keras 2 API: `Model(inputs=Tensor(\"in..., outputs=Tensor(\"de...)`\n",
      "/usr/local/lib/python3.6/dist-packages/ipykernel_launcher.py:44: UserWarning: Update your `Model` call to the Keras 2 API: `Model(inputs=[<tf.Tenso..., outputs=[<tf.Tenso...)`\n"
     ]
    }
   ],
   "source": [
    "from keras.models import *\n",
    "from keras.layers import *\n",
    "rnn_size = 128\n",
    "\n",
    "input_tensor = Input((height,width, 3))\n",
    "x = input_tensor\n",
    "for i in range(4):\n",
    "    x = Convolution2D(32, 3, 3, activation='relu')(x)\n",
    "    x = keras.layers.BatchNormalization(axis=-1)(x)\n",
    "    x = Convolution2D(32, 3, 3, activation='relu')(x)\n",
    "    x = keras.layers.BatchNormalization(axis=-1)(x)\n",
    "    if i <3:\n",
    "        x = MaxPooling2D(pool_size=(2, 2))(x)\n",
    "    else:\n",
    "        x = MaxPooling2D(pool_size=(2, 1))(x)\n",
    "\n",
    "\n",
    "conv_shape = x.get_shape()\n",
    "x = Reshape(target_shape=(int(conv_shape[2]), int(conv_shape[1]*conv_shape[3])))(x)\n",
    "\n",
    "x = Dense(32, activation='relu')(x)\n",
    "\n",
    "gru_1 = GRU(rnn_size, return_sequences=True, init='he_normal', name='gru1')(x)\n",
    "gru_1b = GRU(rnn_size, return_sequences=True, go_backwards=True, \n",
    "             init='he_normal', name='gru1_b')(x)\n",
    "gru1_merged = keras.layers.add([gru_1, gru_1b])\n",
    "\n",
    "gru_2 = GRU(rnn_size, return_sequences=True, init='he_normal', name='gru2')(gru1_merged)\n",
    "gru_2b = GRU(rnn_size, return_sequences=True, go_backwards=True, \n",
    "             init='he_normal', name='gru2_b')(gru1_merged)\n",
    "x = keras.layers.Concatenate()([gru_2, gru_2b])\n",
    "\n",
    "x = Dropout(0.25)(x)\n",
    "x = Dense(n_class, init='he_normal', activation='softmax')(x)\n",
    "\n",
    "base_model = Model(input=input_tensor, output=x)\n",
    "\n",
    "labels = Input(name='the_labels', shape=[n_len], dtype='float32')\n",
    "input_length = Input(name='input_length', shape=[1], dtype='int64')\n",
    "label_length = Input(name='label_length', shape=[1], dtype='int64')\n",
    "loss_out = Lambda(ctc_lambda_func, output_shape=(1,), \n",
    "                  name='ctc')([x, labels, input_length, label_length])\n",
    "\n",
    "model = Model(input=[input_tensor, labels, input_length, label_length], output=[loss_out])\n",
    "model.compile(loss={'ctc': lambda y_true, y_pred: y_pred}, optimizer='Adam')"
   ]
  },
  {
   "cell_type": "code",
   "execution_count": 20,
   "metadata": {
    "colab": {
     "base_uri": "https://localhost:8080/",
     "height": 1000
    },
    "colab_type": "code",
    "executionInfo": {
     "elapsed": 1187,
     "status": "ok",
     "timestamp": 1577176464337,
     "user": {
      "displayName": "Emily Chou",
      "photoUrl": "https://lh3.googleusercontent.com/a-/AAuE7mBbTyW1QUZdripf6tUgOZTbughaHmsdXp-6K7Lz=s64",
      "userId": "16678658602905794969"
     },
     "user_tz": -480
    },
    "id": "X-FRGdk5majK",
    "outputId": "7ee0a9ce-785b-488f-ee9d-1ec2be5b4065"
   },
   "outputs": [
    {
     "name": "stdout",
     "output_type": "stream",
     "text": [
      "Model: \"model_4\"\n",
      "__________________________________________________________________________________________________\n",
      "Layer (type)                    Output Shape         Param #     Connected to                     \n",
      "==================================================================================================\n",
      "input_2 (InputLayer)            (None, 80, 170, 3)   0                                            \n",
      "__________________________________________________________________________________________________\n",
      "conv2d_1 (Conv2D)               (None, 78, 168, 32)  896         input_2[0][0]                    \n",
      "__________________________________________________________________________________________________\n",
      "batch_normalization_10 (BatchNo (None, 78, 168, 32)  128         conv2d_1[0][0]                   \n",
      "__________________________________________________________________________________________________\n",
      "conv2d_2 (Conv2D)               (None, 76, 166, 32)  9248        batch_normalization_10[0][0]     \n",
      "__________________________________________________________________________________________________\n",
      "batch_normalization_11 (BatchNo (None, 76, 166, 32)  128         conv2d_2[0][0]                   \n",
      "__________________________________________________________________________________________________\n",
      "max_pooling2d_1 (MaxPooling2D)  (None, 38, 83, 32)   0           batch_normalization_11[0][0]     \n",
      "__________________________________________________________________________________________________\n",
      "conv2d_3 (Conv2D)               (None, 36, 81, 32)   9248        max_pooling2d_1[0][0]            \n",
      "__________________________________________________________________________________________________\n",
      "batch_normalization_12 (BatchNo (None, 36, 81, 32)   128         conv2d_3[0][0]                   \n",
      "__________________________________________________________________________________________________\n",
      "conv2d_4 (Conv2D)               (None, 34, 79, 32)   9248        batch_normalization_12[0][0]     \n",
      "__________________________________________________________________________________________________\n",
      "batch_normalization_13 (BatchNo (None, 34, 79, 32)   128         conv2d_4[0][0]                   \n",
      "__________________________________________________________________________________________________\n",
      "max_pooling2d_2 (MaxPooling2D)  (None, 17, 39, 32)   0           batch_normalization_13[0][0]     \n",
      "__________________________________________________________________________________________________\n",
      "conv2d_5 (Conv2D)               (None, 15, 37, 32)   9248        max_pooling2d_2[0][0]            \n",
      "__________________________________________________________________________________________________\n",
      "batch_normalization_14 (BatchNo (None, 15, 37, 32)   128         conv2d_5[0][0]                   \n",
      "__________________________________________________________________________________________________\n",
      "conv2d_6 (Conv2D)               (None, 13, 35, 32)   9248        batch_normalization_14[0][0]     \n",
      "__________________________________________________________________________________________________\n",
      "batch_normalization_15 (BatchNo (None, 13, 35, 32)   128         conv2d_6[0][0]                   \n",
      "__________________________________________________________________________________________________\n",
      "max_pooling2d_3 (MaxPooling2D)  (None, 6, 17, 32)    0           batch_normalization_15[0][0]     \n",
      "__________________________________________________________________________________________________\n",
      "conv2d_7 (Conv2D)               (None, 4, 15, 32)    9248        max_pooling2d_3[0][0]            \n",
      "__________________________________________________________________________________________________\n",
      "batch_normalization_16 (BatchNo (None, 4, 15, 32)    128         conv2d_7[0][0]                   \n",
      "__________________________________________________________________________________________________\n",
      "conv2d_8 (Conv2D)               (None, 2, 13, 32)    9248        batch_normalization_16[0][0]     \n",
      "__________________________________________________________________________________________________\n",
      "batch_normalization_17 (BatchNo (None, 2, 13, 32)    128         conv2d_8[0][0]                   \n",
      "__________________________________________________________________________________________________\n",
      "max_pooling2d_4 (MaxPooling2D)  (None, 1, 13, 32)    0           batch_normalization_17[0][0]     \n",
      "__________________________________________________________________________________________________\n",
      "reshape_2 (Reshape)             (None, 13, 32)       0           max_pooling2d_4[0][0]            \n",
      "__________________________________________________________________________________________________\n",
      "dense_3 (Dense)                 (None, 13, 32)       1056        reshape_2[0][0]                  \n",
      "__________________________________________________________________________________________________\n",
      "gru1 (GRU)                      (None, 13, 128)      61824       dense_3[0][0]                    \n",
      "__________________________________________________________________________________________________\n",
      "gru1_b (GRU)                    (None, 13, 128)      61824       dense_3[0][0]                    \n",
      "__________________________________________________________________________________________________\n",
      "add_1 (Add)                     (None, 13, 128)      0           gru1[0][0]                       \n",
      "                                                                 gru1_b[0][0]                     \n",
      "__________________________________________________________________________________________________\n",
      "gru2 (GRU)                      (None, 13, 128)      98688       add_1[0][0]                      \n",
      "__________________________________________________________________________________________________\n",
      "gru2_b (GRU)                    (None, 13, 128)      98688       add_1[0][0]                      \n",
      "__________________________________________________________________________________________________\n",
      "concatenate_1 (Concatenate)     (None, 13, 256)      0           gru2[0][0]                       \n",
      "                                                                 gru2_b[0][0]                     \n",
      "__________________________________________________________________________________________________\n",
      "dropout_2 (Dropout)             (None, 13, 256)      0           concatenate_1[0][0]              \n",
      "__________________________________________________________________________________________________\n",
      "dense_4 (Dense)                 (None, 13, 37)       9509        dropout_2[0][0]                  \n",
      "__________________________________________________________________________________________________\n",
      "the_labels (InputLayer)         (None, 4)            0                                            \n",
      "__________________________________________________________________________________________________\n",
      "input_length (InputLayer)       (None, 1)            0                                            \n",
      "__________________________________________________________________________________________________\n",
      "label_length (InputLayer)       (None, 1)            0                                            \n",
      "__________________________________________________________________________________________________\n",
      "ctc (Lambda)                    (None, 1)            0           dense_4[0][0]                    \n",
      "                                                                 the_labels[0][0]                 \n",
      "                                                                 input_length[0][0]               \n",
      "                                                                 label_length[0][0]               \n",
      "==================================================================================================\n",
      "Total params: 398,245\n",
      "Trainable params: 397,733\n",
      "Non-trainable params: 512\n",
      "__________________________________________________________________________________________________\n"
     ]
    }
   ],
   "source": [
    "model.summary()"
   ]
  },
  {
   "cell_type": "code",
   "execution_count": 25,
   "metadata": {
    "colab": {
     "base_uri": "https://localhost:8080/",
     "height": 1000
    },
    "colab_type": "code",
    "executionInfo": {
     "elapsed": 2905175,
     "status": "ok",
     "timestamp": 1577179541011,
     "user": {
      "displayName": "Emily Chou",
      "photoUrl": "https://lh3.googleusercontent.com/a-/AAuE7mBbTyW1QUZdripf6tUgOZTbughaHmsdXp-6K7Lz=s64",
      "userId": "16678658602905794969"
     },
     "user_tz": -480
    },
    "id": "ZAL_stG1DUfh",
    "outputId": "386abdb3-d4f0-449c-d75b-268070bcb9c0"
   },
   "outputs": [
    {
     "name": "stdout",
     "output_type": "stream",
     "text": [
      "Epoch 1/60\n",
      "300/300 [==============================] - 55s 185ms/step - loss: 15.8909\n",
      "Epoch 2/60\n",
      "300/300 [==============================] - 52s 173ms/step - loss: 13.4771\n",
      "Epoch 3/60\n",
      "300/300 [==============================] - 53s 176ms/step - loss: 10.3018\n",
      "Epoch 4/60\n",
      "300/300 [==============================] - 52s 174ms/step - loss: 7.8227\n",
      "Epoch 5/60\n",
      "300/300 [==============================] - 52s 174ms/step - loss: 4.2034\n",
      "Epoch 6/60\n",
      "300/300 [==============================] - 51s 169ms/step - loss: 2.4850\n",
      "Epoch 7/60\n",
      "300/300 [==============================] - 50s 165ms/step - loss: 1.9743\n",
      "Epoch 8/60\n",
      "300/300 [==============================] - 50s 166ms/step - loss: 1.6990\n",
      "Epoch 9/60\n",
      "300/300 [==============================] - 49s 165ms/step - loss: 1.4650\n",
      "Epoch 10/60\n",
      "300/300 [==============================] - 49s 164ms/step - loss: 1.3033\n",
      "Epoch 11/60\n",
      "300/300 [==============================] - 49s 162ms/step - loss: 1.0967\n",
      "Epoch 12/60\n",
      "300/300 [==============================] - 49s 163ms/step - loss: 1.1482\n",
      "Epoch 13/60\n",
      "300/300 [==============================] - 49s 164ms/step - loss: 1.0362\n",
      "Epoch 14/60\n",
      "300/300 [==============================] - 48s 160ms/step - loss: 1.0078\n",
      "Epoch 15/60\n",
      "300/300 [==============================] - 49s 163ms/step - loss: 0.9020\n",
      "Epoch 16/60\n",
      "300/300 [==============================] - 48s 161ms/step - loss: 0.8427\n",
      "Epoch 17/60\n",
      "300/300 [==============================] - 48s 161ms/step - loss: 0.7642\n",
      "Epoch 18/60\n",
      "300/300 [==============================] - 49s 162ms/step - loss: 0.7909\n",
      "Epoch 19/60\n",
      "300/300 [==============================] - 48s 160ms/step - loss: 0.7411\n",
      "Epoch 20/60\n",
      "300/300 [==============================] - 48s 159ms/step - loss: 0.6943\n",
      "Epoch 21/60\n",
      "300/300 [==============================] - 48s 161ms/step - loss: 0.6940\n",
      "Epoch 22/60\n",
      "300/300 [==============================] - 47s 158ms/step - loss: 0.7115\n",
      "Epoch 23/60\n",
      "300/300 [==============================] - 48s 160ms/step - loss: 0.6895\n",
      "Epoch 24/60\n",
      "300/300 [==============================] - 47s 158ms/step - loss: 0.6062\n",
      "Epoch 25/60\n",
      "300/300 [==============================] - 48s 160ms/step - loss: 0.6222\n",
      "Epoch 26/60\n",
      "300/300 [==============================] - 47s 157ms/step - loss: 0.5827\n",
      "Epoch 27/60\n",
      "300/300 [==============================] - 48s 159ms/step - loss: 0.6400\n",
      "Epoch 28/60\n",
      "300/300 [==============================] - 48s 161ms/step - loss: 0.5276\n",
      "Epoch 29/60\n",
      "300/300 [==============================] - 47s 158ms/step - loss: 0.5314\n",
      "Epoch 30/60\n",
      "300/300 [==============================] - 47s 157ms/step - loss: 0.5664\n",
      "Epoch 31/60\n",
      "300/300 [==============================] - 48s 160ms/step - loss: 0.6079\n",
      "Epoch 32/60\n",
      "300/300 [==============================] - 49s 162ms/step - loss: 0.5663\n",
      "Epoch 33/60\n",
      "300/300 [==============================] - 48s 161ms/step - loss: 0.5980\n",
      "Epoch 34/60\n",
      "300/300 [==============================] - 47s 158ms/step - loss: 0.5359\n",
      "Epoch 35/60\n",
      "300/300 [==============================] - 48s 159ms/step - loss: 0.4469\n",
      "Epoch 36/60\n",
      "300/300 [==============================] - 48s 159ms/step - loss: 0.5100\n",
      "Epoch 37/60\n",
      "300/300 [==============================] - 47s 156ms/step - loss: 0.4701\n",
      "Epoch 38/60\n",
      "300/300 [==============================] - 48s 159ms/step - loss: 0.5151\n",
      "Epoch 39/60\n",
      "300/300 [==============================] - 48s 160ms/step - loss: 0.4793\n",
      "Epoch 40/60\n",
      "300/300 [==============================] - 47s 156ms/step - loss: 0.4377\n",
      "Epoch 41/60\n",
      "300/300 [==============================] - 48s 161ms/step - loss: 0.4895\n",
      "Epoch 42/60\n",
      "300/300 [==============================] - 47s 157ms/step - loss: 0.4724\n",
      "Epoch 43/60\n",
      "300/300 [==============================] - 49s 162ms/step - loss: 0.4493\n",
      "Epoch 44/60\n",
      "300/300 [==============================] - 47s 158ms/step - loss: 0.4841\n",
      "Epoch 45/60\n",
      "300/300 [==============================] - 48s 160ms/step - loss: 0.4543\n",
      "Epoch 46/60\n",
      "300/300 [==============================] - 48s 159ms/step - loss: 0.4438\n",
      "Epoch 47/60\n",
      "300/300 [==============================] - 47s 158ms/step - loss: 0.4261\n",
      "Epoch 48/60\n",
      "300/300 [==============================] - 47s 158ms/step - loss: 0.4033\n",
      "Epoch 49/60\n",
      "300/300 [==============================] - 47s 156ms/step - loss: 0.3748\n",
      "Epoch 50/60\n",
      "300/300 [==============================] - 48s 161ms/step - loss: 0.3633\n",
      "Epoch 51/60\n",
      "300/300 [==============================] - 49s 162ms/step - loss: 0.4376\n",
      "Epoch 52/60\n",
      "300/300 [==============================] - 47s 157ms/step - loss: 0.4230\n",
      "Epoch 53/60\n",
      "300/300 [==============================] - 47s 157ms/step - loss: 0.4184\n",
      "Epoch 54/60\n",
      "300/300 [==============================] - 47s 158ms/step - loss: 0.3976\n",
      "Epoch 55/60\n",
      "300/300 [==============================] - 47s 157ms/step - loss: 0.4364\n",
      "Epoch 56/60\n",
      "300/300 [==============================] - 47s 156ms/step - loss: 0.4182\n",
      "Epoch 57/60\n",
      "300/300 [==============================] - 47s 158ms/step - loss: 0.3590\n",
      "Epoch 58/60\n",
      "300/300 [==============================] - 47s 157ms/step - loss: 0.3910\n",
      "Epoch 59/60\n",
      "300/300 [==============================] - 47s 157ms/step - loss: 0.3926\n",
      "Epoch 60/60\n",
      "300/300 [==============================] - 46s 153ms/step - loss: 0.4280\n"
     ]
    },
    {
     "data": {
      "text/plain": [
       "<keras.callbacks.History at 0x7f250660b470>"
      ]
     },
     "execution_count": 25,
     "metadata": {
      "tags": []
     },
     "output_type": "execute_result"
    }
   ],
   "source": [
    "model.fit_generator(gen(32), steps_per_epoch=300, epochs=60)"
   ]
  },
  {
   "cell_type": "code",
   "execution_count": 28,
   "metadata": {
    "colab": {
     "base_uri": "https://localhost:8080/",
     "height": 234
    },
    "colab_type": "code",
    "executionInfo": {
     "elapsed": 2828,
     "status": "ok",
     "timestamp": 1577182437700,
     "user": {
      "displayName": "Emily Chou",
      "photoUrl": "https://lh3.googleusercontent.com/a-/AAuE7mBbTyW1QUZdripf6tUgOZTbughaHmsdXp-6K7Lz=s64",
      "userId": "16678658602905794969"
     },
     "user_tz": -480
    },
    "id": "6w_2Vp7ImajP",
    "outputId": "c934e9d8-9abb-4a06-8421-758f88fedff1"
   },
   "outputs": [
    {
     "data": {
      "image/png": "[encoded data removed]",
      "text/plain": [
       "<Figure size 432x288 with 1 Axes>"
      ]
     },
     "metadata": {
      "image/png": {
       "height": 217,
       "width": 369
      },
      "tags": []
     },
     "output_type": "display_data"
    }
   ],
   "source": [
    "characters2 = characters + ' '\n",
    "[X_test, y_test, _, _], _  = next(gen(1))\n",
    "y_pred = base_model.predict(X_test) #base_model + model(自己寫好的ctc loss function)\n",
    "##用ctc_decode得到解答，自己寫可以參考下方\n",
    "out = K.get_value(K.ctc_decode(y_pred, input_length=np.ones(y_pred.shape[0])*y_pred.shape[1], )[0][0])\n",
    "out = ''.join([characters[x] for x in out[0]])\n",
    "y_true = ''.join([characters[x] for x in y_test[0]])\n",
    "\n",
    "plt.imshow(X_test[0])\n",
    "plt.title('pred:' + str(out) + '\\ntrue: ' + str(y_true))\n",
    "\n",
    "argmax = np.argmax(y_pred, axis=2)[0]"
   ]
  }
 ],
 "metadata": {
  "accelerator": "GPU",
  "colab": {
   "collapsed_sections": [],
   "name": "EmilyHW_day22[Captcha].ipynb",
   "provenance": []
  },
  "kernelspec": {
   "display_name": "Python 3",
   "language": "python",
   "name": "python3"
  },
  "language_info": {
   "codemirror_mode": {
    "name": "ipython",
    "version": 3
   },
   "file_extension": ".py",
   "mimetype": "text/x-python",
   "name": "python",
   "nbconvert_exporter": "python",
   "pygments_lexer": "ipython3",
   "version": "3.7.5"
  }
 },
 "nbformat": 4,
 "nbformat_minor": 1
}
