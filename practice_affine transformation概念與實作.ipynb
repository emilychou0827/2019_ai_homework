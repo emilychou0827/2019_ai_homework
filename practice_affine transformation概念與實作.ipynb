{
 "cells": [
  {
   "cell_type": "code",
   "execution_count": 1,
   "metadata": {},
   "outputs": [],
   "source": [
    "import numpy as np"
   ]
  },
  {
   "cell_type": "markdown",
   "metadata": {},
   "source": [
    "Affine transformation轉換公式:\n",
    "\n",
    "$$ \\vec{y}_{m×1}=A_{m×n} \\cdot \\vec{x}_{n×1}+ \\vec{b}_{m×1} $$\n",
    "\n",
    "※python寫數學式：https://blog.csdn.net/smilejiasmile/article/details/80670742"
   ]
  },
  {
   "cell_type": "code",
   "execution_count": 5,
   "metadata": {},
   "outputs": [
    {
     "data": {
      "text/plain": [
       "array([2.8777759 , 3.04524454])"
      ]
     },
     "execution_count": 5,
     "metadata": {},
     "output_type": "execute_result"
    }
   ],
   "source": [
    "x = np.array((1,2,3))\n",
    "b = np.ones(2) #產生[1,1]\n",
    "A = np.random.rand(2,3)#二維陣列:2*3矩陣\n",
    "y1 = np.dot(A,x) +b #上列運算式,dot為矩陣相乘,EX:y1 = array([2.8777759 , 3.04524454])"
   ]
  },
  {
   "cell_type": "code",
   "execution_count": 8,
   "metadata": {},
   "outputs": [
    {
     "data": {
      "text/plain": [
       "array([14, 32])"
      ]
     },
     "execution_count": 8,
     "metadata": {},
     "output_type": "execute_result"
    }
   ],
   "source": [
    "z=np.array([(1,2,3),(4,5,6)])\n",
    "w = np.dot(z,x) #[1*1+2*5+3*3 , 4*1+5*2+6*3] =[14,32]"
   ]
  },
  {
   "cell_type": "markdown",
   "metadata": {},
   "source": [
    "轉換成如下公式：\n",
    "$$ \\left[\\begin{matrix} \\vec{y} \\\\ 1 \\end{matrix} \\right]_{(m+1)x1} =  \\left[\\begin{matrix} & A& & \\vec{b} \\\\ 0,&...&,0&1  \\end{matrix} \\right]_{(m+1)x(n+1)} + \\left[\\begin{matrix} \\vec{x} \\\\ 1 \\end{matrix} \\right]_{(m+1)x1}$$"
   ]
  },
  {
   "cell_type": "code",
   "execution_count": 26,
   "metadata": {},
   "outputs": [
    {
     "name": "stdout",
     "output_type": "stream",
     "text": [
      "x_mtx: [1 2 3 1]\n",
      "x_mtx_r: [[1]\n",
      " [2]\n",
      " [3]\n",
      " [1]]\n",
      "y2: [[2.8777759 ]\n",
      " [3.04524454]\n",
      " [1.        ]]\n"
     ]
    }
   ],
   "source": [
    "#print(\"A:\",A) #[[1,2,3][1,2,3]]\n",
    "b_r=b.reshape(-1,1) #[[1],[1]] 轉換成2個1維陣列\n",
    "A_mtx= np.hstack((A,b_r)) #[[1,2,3,1][1,2,3,1]]\n",
    "#print(\"A_mtx:\",A_mtx)\n",
    "x_mtx= np.hstack( (x,1) ) #[1 2 3 1]\n",
    "x_mtx_r=x_mtx.reshape(-1,1) #[[1],[2],[3],[1]]\n",
    "#print(\"x_mtx:\",x_mtx)\n",
    "#print(\"x_mtx_r:\",x_mtx_r)\n",
    "zero= np.zeros(3) #[0,0,0]\n",
    "zero_under=np.hstack((zero,1)) #[0. 0. 0. 1.]\n",
    "zero_under_r = zero_under.reshape(1,-1) #[[0. 0. 0. 1.]]\n",
    "A_mtx = np.vstack( (A_mtx,zero_under_r) ) #[[1,2,3,1][1,2,3,1][0,0,0,1]]\n",
    "#print(\"A_mtx2:\",A_mtx)\n",
    "y2 = np.dot(A_mtx,x_mtx_r) #[[v1],[v2],[1]]\n",
    "#print(\"y2:\",y2)"
   ]
  },
  {
   "cell_type": "code",
   "execution_count": 48,
   "metadata": {},
   "outputs": [
    {
     "name": "stdout",
     "output_type": "stream",
     "text": [
      "A.shape[0]: 2\n",
      "A.shape[1]: 3\n",
      "A: [[0.03177973 0.00580705 0.61146069]\n",
      " [0.35832982 0.09036957 0.50205853]]\n",
      "A_mtx2: [[0.03177973 0.00580705 0.61146069 0.        ]\n",
      " [0.35832982 0.09036957 0.50205853 0.        ]\n",
      " [0.         0.         0.         1.        ]]\n",
      "A_mtx2[:2,:3]: [[0.03177973 0.00580705 0.61146069]\n",
      " [0.35832982 0.09036957 0.50205853]]\n",
      "A_mtx2[:-1,:-1]: [[0.03177973 0.00580705 0.61146069]\n",
      " [0.35832982 0.09036957 0.50205853]]\n",
      "A_mtx2[:3,:3]: [[0.03177973 0.00580705 0.61146069]\n",
      " [0.35832982 0.09036957 0.50205853]\n",
      " [0.         0.         0.        ]]\n",
      "b: [1. 1.]\n",
      "A_mtx2: [[0.03177973 0.00580705 0.61146069 1.        ]\n",
      " [0.35832982 0.09036957 0.50205853 1.        ]\n",
      " [0.         0.         0.         1.        ]]\n",
      "y2: [[2.8777759 ]\n",
      " [3.04524454]\n",
      " [1.        ]]\n"
     ]
    }
   ],
   "source": [
    "print(\"A.shape[0]:\",A.shape[0]) #2\n",
    "print(\"A.shape[1]:\",A.shape[1]) #3\n",
    "A_mtx2 = np.zeros( (A.shape[0]+1,A.shape[1]+1) ) #二維陣列，3*4\n",
    "#[[0. 0. 0. 0.]\n",
    "# [0. 0. 0. 0.]\n",
    "# [0. 0. 0. 0.]]\n",
    "A_mtx2[-1,-1] = 1 #最後一排，最後一個元素 = 1\n",
    "#[[0. 0. 0. 0.]\n",
    "#[0. 0. 0. 0.]\n",
    "# [0. 0. 0. 1.]]\n",
    "print(\"A:\",A)\n",
    "#A_mtx2=>3*4\n",
    "A_mtx2[:-1,:-1]=A # = A_mtx2[:2,:3]\n",
    "#print(\"A_mtx2:\",A_mtx2)\n",
    "#print(\"A_mtx2[:2,:3]:\",A_mtx2[:2,:3]) #show 2*3\n",
    "#print(\"A_mtx2[:-1,:-1]:\",A_mtx2[:-1,:-1]) # show (3-1) * (4-1)\n",
    "#print(\"A_mtx2[:3,:3]:\",A_mtx2[:3,:3])#show 3*3\n",
    "#print(\"b:\",b)\n",
    "A_mtx2[:-1,-1]=b\n",
    "#print(\"A_mtx2:\",A_mtx2)\n",
    "y2 = np.dot(A_mtx2,x_mtx_r)\n",
    "print(\"y2:\",y2) #[ [v1],[v2],[1]]"
   ]
  },
  {
   "cell_type": "code",
   "execution_count": null,
   "metadata": {},
   "outputs": [],
   "source": []
  }
 ],
 "metadata": {
  "kernelspec": {
   "display_name": "Python 3",
   "language": "python",
   "name": "python3"
  },
  "language_info": {
   "codemirror_mode": {
    "name": "ipython",
    "version": 3
   },
   "file_extension": ".py",
   "mimetype": "text/x-python",
   "name": "python",
   "nbconvert_exporter": "python",
   "pygments_lexer": "ipython3",
   "version": "3.6.1"
  }
 },
 "nbformat": 4,
 "nbformat_minor": 2
}
