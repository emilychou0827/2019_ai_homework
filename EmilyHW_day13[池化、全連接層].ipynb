{
 "cells": [
  {
   "cell_type": "markdown",
   "metadata": {},
   "source": [
    "## 『作業內容』\n",
    "####   依照指示，搭建Maxpooling層與全連接層"
   ]
  },
  {
   "cell_type": "markdown",
   "metadata": {},
   "source": [
    "## 『目標』\n",
    "####   了解Maxpooling的原理與CNN、FC層連結的方式"
   ]
  },
  {
   "cell_type": "code",
   "execution_count": 1,
   "metadata": {},
   "outputs": [
    {
     "name": "stderr",
     "output_type": "stream",
     "text": [
      "Using TensorFlow backend.\n"
     ]
    }
   ],
   "source": [
    "from keras.models import Sequential  #用來啟動 NN\n",
    "from keras.layers import Conv2D  # Convolution Operation\n",
    "from keras.layers import MaxPooling2D # Pooling\n",
    "from keras.layers import Flatten\n",
    "from keras.layers import Dense # Fully Connected Networks\n",
    "from keras.layers import GlobalAveragePooling2D"
   ]
  },
  {
   "cell_type": "code",
   "execution_count": 0,
   "metadata": {
    "colab": {},
    "colab_type": "code",
    "id": "43xxX0yJxiDr"
   },
   "outputs": [],
   "source": [
    "input_shape = (32, 32, 3)\n",
    "\n",
    "model = Sequential()\n",
    "d1=Conv2D(32, kernel_size=(3, 3), padding='same',input_shape=input_shape)\n",
    "model.add(d1)\n",
    "print(\"d1.strides={}\".format(d1.strides))\n",
    "#strides預設為(1, 1)\n",
    "#Conv2D/same:out_height = ceil(float(in_height) / float(strides[1]))--> 32/1=32\n",
    "#Conv2D/same:out_width = ceil(float(in_width) / float(strides[2]))-->32/1=32\n",
    "#Conv2D:feature map= (Input+2*padding-Kernel_Size)/Stride+1 -->((32+ 2*1 -3)/2)+1=16.5\n",
    "d2 =MaxPooling2D(pool_size=(2, 2), strides=(2,2))\n",
    "model.add(d2)\n",
    "print(\"d2.strides={}\".format(d2.strides))\n",
    "#pooling_size=2,2 strides=2,2 輸出feature map 大小為多少？\n",
    "# 第一層Conv2D：32/1=32\n",
    "# 第二層MaxPooling2D(feature map)：32/2=16\n",
    "d3=Conv2D(64, kernel_size=(3, 3), padding='same',input_shape=input_shape)\n",
    "model.add(d3)\n",
    "print(\"d3.strides={}\".format(d3.strides))\n",
    "d4=MaxPooling2D(pool_size=(2, 2), strides=(2,2))\n",
    "model.add(d4)\n",
    "print(\"d4.strides={}\".format(d4.strides))\n",
    "##pooling_size=2,2 strides=2,2 輸出feature map 大小為多少？\n",
    "# 第三層Conv2D：16 (上層的圖片結果長寬代入)\n",
    "# 第四層MaxPooling2D(feature map)：16/2=8\n",
    "d5=Conv2D(128, kernel_size=(3, 3), padding='same')\n",
    "model.add(d5)\n",
    "print(\"d5.strides={}\".format(d5.strides))\n",
    "d6=MaxPooling2D(pool_size=(1, 1), strides=(1,1))\n",
    "model.add(d6)##pooling_size=1,1 strides=1,1 輸出feature map 大小為多少？\n",
    "print(\"d6.strides={}\".format(d6.strides))\n",
    "# 第五層Conv2D：8 (上層的圖片結果長寬代入)\n",
    "# 第六層MaxPooling2D(feature map)：8/1=8\n",
    "\n",
    "model.add(Conv2D(10, kernel_size=(3, 3), padding='same'))\n",
    "# 第七層Conv2D：8 (上層的圖片結果長寬代入)\n",
    "#model.add(Flatten()) ##Flatten完尺寸如何變化？\n",
    "# 第八層Flatten()=8*8*10=640\n",
    "\n",
    "'''sample:\n",
    "model = Sequential()\n",
    "model.add(Conv2D(64, (3, 3),\n",
    "                 input_shape=(3, 32, 32), padding='same',))\n",
    "# 现在：model.output_shape == (None, 64, 32, 32)\n",
    "model.add(Flatten()) #32長*32寬*64張\n",
    "# 现在：model.output_shape == (None, 65536)'''\n",
    "\n",
    "model.add(GlobalAveragePooling2D()) #第八層GlobalAveragePooling2D()=10\n",
    "#關掉Flatten，使用GlobalAveragePooling2D，完尺寸如何變化？\n",
    "#ANS：同Flatten的算法\n",
    "model.add(Dense(28)) ##全連接層使用28個units"
   ]
  },
  {
   "cell_type": "code",
   "execution_count": 3,
   "metadata": {
    "colab": {},
    "colab_type": "code",
    "id": "nFgU3mB-xiDt",
    "outputId": "6fb884fa-75ad-4b47-b5c6-1fc948b2d614"
   },
   "outputs": [
    {
     "name": "stdout",
     "output_type": "stream",
     "text": [
      "_________________________________________________________________\n",
      "Layer (type)                 Output Shape              Param #   \n",
      "=================================================================\n",
      "conv2d_1 (Conv2D)            (None, 32, 32, 32)        896       \n",
      "_________________________________________________________________\n",
      "max_pooling2d_1 (MaxPooling2 (None, 16, 16, 32)        0         \n",
      "_________________________________________________________________\n",
      "conv2d_2 (Conv2D)            (None, 16, 16, 64)        18496     \n",
      "_________________________________________________________________\n",
      "max_pooling2d_2 (MaxPooling2 (None, 8, 8, 64)          0         \n",
      "_________________________________________________________________\n",
      "conv2d_3 (Conv2D)            (None, 8, 8, 128)         73856     \n",
      "_________________________________________________________________\n",
      "max_pooling2d_3 (MaxPooling2 (None, 4, 4, 128)         0         \n",
      "_________________________________________________________________\n",
      "conv2d_4 (Conv2D)            (None, 4, 4, 10)          11530     \n",
      "_________________________________________________________________\n",
      "flatten_1 (Flatten)          (None, 160)               0         \n",
      "_________________________________________________________________\n",
      "dense_1 (Dense)              (None, 28)                4508      \n",
      "=================================================================\n",
      "Total params: 109,286\n",
      "Trainable params: 109,286\n",
      "Non-trainable params: 0\n",
      "_________________________________________________________________\n"
     ]
    }
   ],
   "source": [
    "model.summary()"
   ]
  },
  {
   "cell_type": "code",
   "execution_count": null,
   "metadata": {},
   "outputs": [],
   "source": []
  }
 ],
 "metadata": {
  "colab": {
   "name": "池化、全連接層.ipynb",
   "provenance": []
  },
  "kernelspec": {
   "display_name": "Python 3",
   "language": "python",
   "name": "python3"
  },
  "language_info": {
   "codemirror_mode": {
    "name": "ipython",
    "version": 3
   },
   "file_extension": ".py",
   "mimetype": "text/x-python",
   "name": "python",
   "nbconvert_exporter": "python",
   "pygments_lexer": "ipython3",
   "version": "3.6.1"
  }
 },
 "nbformat": 4,
 "nbformat_minor": 1
}
