{
 "cells": [
  {
   "cell_type": "code",
   "execution_count": 1,
   "metadata": {},
   "outputs": [],
   "source": [
    "import cv2\n",
    "import time\n",
    "import numpy as np\n",
    "path = 'data/lena.png'\n",
    "img = cv2.imread(path)"
   ]
  },
  {
   "cell_type": "code",
   "execution_count": 3,
   "metadata": {},
   "outputs": [
    {
     "data": {
      "text/plain": [
       "-1"
      ]
     },
     "execution_count": 3,
     "metadata": {},
     "output_type": "execute_result"
    }
   ],
   "source": [
    "#題目1：水平、垂直&水平垂直\n",
    "\n",
    "blue=(255,0,0)  \n",
    "\n",
    "img_vflip1 = img[::-1, :, :]\n",
    "img_vflip1 = cv2.putText(img_vflip1,'vertical array',(60,30), 0 ,1,blue,2)\n",
    "cv2.imshow('img array',img_vflip1)\n",
    "cv2.waitKey(0)\n",
    "img_vflip2 = img[:, ::-1, :]\n",
    "img_vflip2 = cv2.putText(img_vflip2,'vertical array',(60,30), 0 ,1,blue,2)\n",
    "cv2.imshow('img array',img_vflip2)\n",
    "cv2.waitKey(0)\n",
    "img_vflip3 = img[:, :, ::-1]\n",
    "img_vflip3 = cv2.putText(img_vflip3,'vertical array',(60,30), 0 ,1,blue,2)\n",
    "cv2.imshow('img array',img_vflip3)\n",
    "cv2.waitKey(0)"
   ]
  },
  {
   "cell_type": "code",
   "execution_count": null,
   "metadata": {},
   "outputs": [],
   "source": [
    "img_hfilp = cv2.flip(img,1) #水平翻轉\n",
    "img_hfilp = cv2.putText(img_hfilp,'horizontal',(60,30), 0 ,1,blue,2)\n",
    "\n",
    "img_vfilp = cv2.flip(img,0) #垂直翻轉\n",
    "img_vfilp = cv2.putText(img_vfilp,'vertical',(60,30), 0 ,1,blue,2)\n",
    "\n",
    "img_hvfilp= cv2.flip(img,-1) #水平垂直翻轉\n",
    "img_hvfilp = cv2.putText(img_hvfilp,'horizontal+vertical',(60,30), 0 ,1,blue,2)\n",
    "\n",
    "merge_hv = np.hstack( (img,img_hfilp))\n",
    "merge_hv2 = np.hstack( (img_vfilp,img_hvfilp))\n",
    "merge_hv2 = np.vstack( (merge_hv,merge_hv2))\n",
    "cv2.namedWindow(\"垂直水平翻轉\",0);\n",
    "cv2.resizeWindow('垂直水平翻轉', 500,500)\n",
    "cv2.imshow('垂直水平翻轉',merge_hv2)\n",
    "cv2.waitKey(0)"
   ]
  },
  {
   "cell_type": "code",
   "execution_count": 10,
   "metadata": {},
   "outputs": [
    {
     "name": "stdout",
     "output_type": "stream",
     "text": [
      "INTER_AREA zoom cost 0.0\n",
      "INTER_CUBIC zoom cost 0.0\n",
      "img2area.shape[:2]= (816, 816)\n"
     ]
    },
    {
     "data": {
      "text/plain": [
       "-1"
      ]
     },
     "execution_count": 10,
     "metadata": {},
     "output_type": "execute_result"
    }
   ],
   "source": [
    "#題目2：縮放圖片\n",
    "\n",
    "img2sm = cv2.resize(img, None, fx =0.2 ,fy=0.2)\n",
    "#cv2.imshow('縮小',img2lg)\n",
    "#cv2.waitKey(0)\n",
    "fx,fy =8,8\n",
    "#img2lg = cv2.resize(img2sm, None, fx=fx ,fy=fy)\n",
    "#imgchange = img2sm.copy()\n",
    "\n",
    "#img2near=cv2.resize(img2sm ,None ,fx =fx,fy=fy, interpolation=cv2.INTER_NEAREST)\n",
    "#start_time = time.time()\n",
    "#print('INTER_NEAREST zoom cost {}'.format(time.time() - start_time))\n",
    "\n",
    "img2area=cv2.resize(img2sm ,None ,fx =fx,fy=fy, interpolation=cv2.INTER_AREA)\n",
    "img2area = cv2.putText(img2area,'area',(60,30), 0 ,1,blue,2)\n",
    "start_time = time.time()\n",
    "print('INTER_AREA zoom cost {}'.format(time.time() - start_time))\n",
    "\n",
    "img2cubic=cv2.resize(img2sm ,None ,fx =fx,fy=fy, interpolation=cv2.INTER_CUBIC)\n",
    "img2cubic = cv2.putText(img2cubic,'cubic',(60,30), 0 ,1,blue,2)\n",
    "start_time = time.time()\n",
    "print('INTER_CUBIC zoom cost {}'.format(time.time() - start_time))\n",
    "\n",
    "print(\"img2area.shape[:2]=\",img2area.shape[:2])\n",
    "orig_img = cv2.resize(img, img2area.shape[:2])\n",
    "orig_img = cv2.putText(orig_img,'org',(60,30), 0 ,1,blue,2)\n",
    "merge_img = np.hstack( (orig_img,img2area))\n",
    "merge_img2 = np.hstack( (img2area,img2cubic))\n",
    "merge_img3 = np.vstack( (merge_img,merge_img2) )\n",
    "cv2.namedWindow(\"zoom\",0);\n",
    "cv2.resizeWindow('zoom', 900,900)\n",
    "cv2.imshow('zoom',merge_img3)\n",
    "cv2.waitKey(0)"
   ]
  },
  {
   "cell_type": "code",
   "execution_count": null,
   "metadata": {},
   "outputs": [],
   "source": [
    "#move = np.float32([[1,0,25],[0,1,50]]) # x->25,y->50\n",
    "move = np.array([(1,0,50),(0,1,100)])\n",
    "M = move.astype('float32')\n",
    "img_warp = cv2.warpAffine(img,M,(img.shape[0],img.shape[1]))\n",
    "#shape返回的是一个tuple元组，第一个元素表示图像的高度，第二个表示图像的宽度，第三个表示像素的通道数\n",
    "merge_img=np.hstack((img,img_warp))\n",
    "cv2.imshow('右平移',merge_img)\n",
    "cv2.waitKey(0)"
   ]
  },
  {
   "cell_type": "code",
   "execution_count": null,
   "metadata": {
    "scrolled": true
   },
   "outputs": [],
   "source": [
    "move2 =  np.float32([[1,0,-50],[0,1,-90]])\n",
    "warp2 = cv2.warpAffine(img,move2,(img.shape[0],img.shape[1]))\n",
    "#cv2.imshow('左平移',warp2)\n",
    "#cv2.waitKey(0)"
   ]
  },
  {
   "cell_type": "code",
   "execution_count": null,
   "metadata": {},
   "outputs": [],
   "source": [
    "print(img.shape[:2]) #圖型大小 512*512"
   ]
  },
  {
   "cell_type": "code",
   "execution_count": null,
   "metadata": {},
   "outputs": [],
   "source": [
    "print(img.shape[::]) #521,521,3 bgr"
   ]
  },
  {
   "cell_type": "code",
   "execution_count": null,
   "metadata": {},
   "outputs": [],
   "source": [
    "(w,h)  = img.shape[:2]\n",
    "center = (w/2,h/2)\n",
    "resize = cv2.getRotationMatrix2D(center, 45, 0.75)\n",
    "warp3 = cv2.warpAffine(img,resize,(w,h))\n",
    "#cv2.imshow('旋轉45度，縮小0.75',warp3)\n",
    "#cv2.waitKey(0)"
   ]
  }
 ],
 "metadata": {
  "kernelspec": {
   "display_name": "Python 3",
   "language": "python",
   "name": "python3"
  },
  "language_info": {
   "codemirror_mode": {
    "name": "ipython",
    "version": 3
   },
   "file_extension": ".py",
   "mimetype": "text/x-python",
   "name": "python",
   "nbconvert_exporter": "python",
   "pygments_lexer": "ipython3",
   "version": "3.6.1"
  }
 },
 "nbformat": 4,
 "nbformat_minor": 2
}
