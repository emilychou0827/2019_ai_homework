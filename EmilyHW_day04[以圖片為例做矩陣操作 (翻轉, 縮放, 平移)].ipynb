{
 "cells": [
  {
   "cell_type": "code",
   "execution_count": 1,
   "metadata": {},
   "outputs": [],
   "source": [
    "import cv2\n",
    "import numpy as np\n",
    "path = 'data/lena.png'\n",
    "img = cv2.imread(path)"
   ]
  },
  {
   "cell_type": "code",
   "execution_count": 4,
   "metadata": {},
   "outputs": [
    {
     "data": {
      "text/plain": [
       "-1"
      ]
     },
     "execution_count": 4,
     "metadata": {},
     "output_type": "execute_result"
    }
   ],
   "source": [
    "move = np.float32([[1,0,25],[0,1,50]]) # x->25,y->50\n",
    "warp1 = cv2.warpAffine(img,move,(img.shape[0],img.shape[1]))\n",
    "#shape返回的是一个tuple元组，第一个元素表示图像的高度，第二个表示图像的宽度，第三个表示像素的通道数\n",
    "#cv2.imshow('右平移',move_img)\n",
    "#cv2.waitKey(0)"
   ]
  },
  {
   "cell_type": "code",
   "execution_count": 6,
   "metadata": {
    "scrolled": true
   },
   "outputs": [
    {
     "data": {
      "text/plain": [
       "-1"
      ]
     },
     "execution_count": 6,
     "metadata": {},
     "output_type": "execute_result"
    }
   ],
   "source": [
    "move2 =  np.float32([[1,0,-50],[0,1,-90]])\n",
    "warp2 = cv2.warpAffine(img,move2,(img.shape[0],img.shape[1]))\n",
    "cv2.imshow('左平移',warp2)\n",
    "cv2.waitKey(0)"
   ]
  },
  {
   "cell_type": "code",
   "execution_count": 7,
   "metadata": {},
   "outputs": [
    {
     "name": "stdout",
     "output_type": "stream",
     "text": [
      "(512, 512)\n"
     ]
    }
   ],
   "source": [
    "print(img.shape[:2]) #圖型大小 512*512"
   ]
  },
  {
   "cell_type": "code",
   "execution_count": 12,
   "metadata": {},
   "outputs": [
    {
     "name": "stdout",
     "output_type": "stream",
     "text": [
      "(512, 512, 3)\n"
     ]
    }
   ],
   "source": [
    "print(img.shape[::]) #521,521,3 bgr"
   ]
  },
  {
   "cell_type": "code",
   "execution_count": 13,
   "metadata": {},
   "outputs": [
    {
     "data": {
      "text/plain": [
       "-1"
      ]
     },
     "execution_count": 13,
     "metadata": {},
     "output_type": "execute_result"
    }
   ],
   "source": [
    "(w,h)  = img.shape[:2]\n",
    "center = (w/2,h/2)\n",
    "resize = cv2.getRotationMatrix2D(center, 45, 0.75)\n",
    "warp3 = cv2.warpAffine(img,resize,(w,h))\n",
    "#cv2.imshow('旋轉45度，縮小0.75',warp3)\n",
    "#cv2.waitKey(0)"
   ]
  },
  {
   "cell_type": "code",
   "execution_count": 18,
   "metadata": {},
   "outputs": [
    {
     "data": {
      "text/plain": [
       "-1"
      ]
     },
     "execution_count": 18,
     "metadata": {},
     "output_type": "execute_result"
    }
   ],
   "source": [
    "flipped1 = cv2.flip(img,1) #水平翻轉\n",
    "flipped0 = cv2.flip(img,0) #垂直翻轉\n",
    "flipped_1 = cv2.flip(img,-1) #垂直翻轉\n",
    "merge_flipped = np.hstack( (flipped1,flipped0,flipped_1))\n",
    "cv2.imshow('垂直水平翻轉',merge_flipped)\n",
    "cv2.waitKey(0)"
   ]
  },
  {
   "cell_type": "code",
   "execution_count": null,
   "metadata": {},
   "outputs": [],
   "source": []
  }
 ],
 "metadata": {
  "kernelspec": {
   "display_name": "Python 3",
   "language": "python",
   "name": "python3"
  },
  "language_info": {
   "codemirror_mode": {
    "name": "ipython",
    "version": 3
   },
   "file_extension": ".py",
   "mimetype": "text/x-python",
   "name": "python",
   "nbconvert_exporter": "python",
   "pygments_lexer": "ipython3",
   "version": "3.6.1"
  }
 },
 "nbformat": 4,
 "nbformat_minor": 2
}
