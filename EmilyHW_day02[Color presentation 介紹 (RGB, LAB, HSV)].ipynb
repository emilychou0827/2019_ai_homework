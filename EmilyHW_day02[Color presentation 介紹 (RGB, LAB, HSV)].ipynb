{
 "cells": [
  {
   "cell_type": "code",
   "execution_count": 1,
   "metadata": {},
   "outputs": [],
   "source": [
    "import cv2\n",
    "import numpy as np"
   ]
  },
  {
   "cell_type": "code",
   "execution_count": 2,
   "metadata": {},
   "outputs": [],
   "source": [
    "path = 'data/lena.png'"
   ]
  },
  {
   "cell_type": "code",
   "execution_count": 6,
   "metadata": {},
   "outputs": [
    {
     "name": "stdout",
     "output_type": "stream",
     "text": [
      "[[[125 137 226]\n",
      "  [125 137 226]\n",
      "  [133 137 223]\n",
      "  ...\n",
      "  [122 148 230]\n",
      "  [110 130 221]\n",
      "  [ 90  99 200]]\n",
      "\n",
      " [[125 137 226]\n",
      "  [125 137 226]\n",
      "  [133 137 223]\n",
      "  ...\n",
      "  [122 148 230]\n",
      "  [110 130 221]\n",
      "  [ 90  99 200]]\n",
      "\n",
      " [[125 137 226]\n",
      "  [125 137 226]\n",
      "  [133 137 223]\n",
      "  ...\n",
      "  [122 148 230]\n",
      "  [110 130 221]\n",
      "  [ 90  99 200]]\n",
      "\n",
      " ...\n",
      "\n",
      " [[ 60  18  84]\n",
      "  [ 60  18  84]\n",
      "  [ 58  27  92]\n",
      "  ...\n",
      "  [ 84  73 173]\n",
      "  [ 76  68 172]\n",
      "  [ 79  62 177]]\n",
      "\n",
      " [[ 57  22  82]\n",
      "  [ 57  22  82]\n",
      "  [ 62  32  96]\n",
      "  ...\n",
      "  [ 79  70 179]\n",
      "  [ 81  71 181]\n",
      "  [ 81  74 185]]\n",
      "\n",
      " [[ 57  22  82]\n",
      "  [ 57  22  82]\n",
      "  [ 62  32  96]\n",
      "  ...\n",
      "  [ 79  70 179]\n",
      "  [ 81  71 181]\n",
      "  [ 81  74 185]]]\n"
     ]
    }
   ],
   "source": [
    "img = cv2.imread(path)\n",
    "print(img)"
   ]
  },
  {
   "cell_type": "code",
   "execution_count": 4,
   "metadata": {},
   "outputs": [],
   "source": [
    "img_hsv = cv2.cvtColor(img, cv2.COLOR_BGR2HSV)"
   ]
  },
  {
   "cell_type": "code",
   "execution_count": 5,
   "metadata": {
    "scrolled": true
   },
   "outputs": [
    {
     "name": "stdout",
     "output_type": "stream",
     "text": [
      "[[[  4 176 162]\n",
      "  [  4 176 162]\n",
      "  [  1 178 149]\n",
      "  ...\n",
      "  [  7 176 174]\n",
      "  [  5 166 158]\n",
      "  [  2 145 128]]\n",
      "\n",
      " [[  4 176 162]\n",
      "  [  4 176 162]\n",
      "  [  1 178 149]\n",
      "  ...\n",
      "  [  7 176 174]\n",
      "  [  5 166 158]\n",
      "  [  2 145 128]]\n",
      "\n",
      " [[  4 176 162]\n",
      "  [  4 176 162]\n",
      "  [  1 178 149]\n",
      "  ...\n",
      "  [  7 176 174]\n",
      "  [  5 166 158]\n",
      "  [  2 145 128]]\n",
      "\n",
      " ...\n",
      "\n",
      " [[161  51 165]\n",
      "  [161  51 165]\n",
      "  [166  60 139]\n",
      "  ...\n",
      "  [177 123 104]\n",
      "  [178 120 110]\n",
      "  [176 120 123]]\n",
      "\n",
      " [[162  52 147]\n",
      "  [162  52 147]\n",
      "  [166  64 128]\n",
      "  ...\n",
      "  [178 124 112]\n",
      "  [177 126 111]\n",
      "  [178 130 113]]\n",
      "\n",
      " [[162  52 147]\n",
      "  [162  52 147]\n",
      "  [166  64 128]\n",
      "  ...\n",
      "  [178 124 112]\n",
      "  [177 126 111]\n",
      "  [178 130 113]]]\n"
     ]
    }
   ],
   "source": [
    "img_hsl = cv2.cvtColor(img, cv2.COLOR_BGR2HLS)\n",
    "print(img_hsl)"
   ]
  },
  {
   "cell_type": "code",
   "execution_count": 6,
   "metadata": {},
   "outputs": [],
   "source": [
    "img_lab = cv2.cvtColor(img, cv2.COLOR_BGR2LAB)"
   ]
  },
  {
   "cell_type": "code",
   "execution_count": 7,
   "metadata": {},
   "outputs": [],
   "source": [
    "merge_img = np.hstack((img,img_hsv,img_hsl,img_lab))"
   ]
  },
  {
   "cell_type": "code",
   "execution_count": null,
   "metadata": {},
   "outputs": [],
   "source": [
    "cv2.imshow('作業2',merge_img)\n",
    "cv2.waitKey(0)"
   ]
  },
  {
   "cell_type": "code",
   "execution_count": null,
   "metadata": {},
   "outputs": [],
   "source": []
  }
 ],
 "metadata": {
  "kernelspec": {
   "display_name": "Python 3",
   "language": "python",
   "name": "python3"
  },
  "language_info": {
   "codemirror_mode": {
    "name": "ipython",
    "version": 3
   },
   "file_extension": ".py",
   "mimetype": "text/x-python",
   "name": "python",
   "nbconvert_exporter": "python",
   "pygments_lexer": "ipython3",
   "version": "3.7.5"
  }
 },
 "nbformat": 4,
 "nbformat_minor": 2
}
