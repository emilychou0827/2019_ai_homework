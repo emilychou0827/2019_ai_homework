{
 "cells": [
  {
   "cell_type": "code",
   "execution_count": 5,
   "metadata": {},
   "outputs": [],
   "source": [
    "import cv2\n",
    "import numpy as np\n",
    "path = 'data/lena.png'\n",
    "img = cv2.imread(path)"
   ]
  },
  {
   "cell_type": "code",
   "execution_count": 2,
   "metadata": {},
   "outputs": [],
   "source": [
    "saturation=0.2 #飽和度"
   ]
  },
  {
   "cell_type": "code",
   "execution_count": 3,
   "metadata": {},
   "outputs": [
    {
     "data": {
      "text/plain": [
       "-1"
      ]
     },
     "execution_count": 3,
     "metadata": {},
     "output_type": "execute_result"
    }
   ],
   "source": [
    "#題目1:改變 color space 來調整飽和度\n",
    "img_hls = cv2.cvtColor(img,cv2.COLOR_BGR2HLS)\n",
    "def convert_img(img_,saturation):\n",
    "    img_ =  img_.astype('float32')\n",
    "    img_[...,-1] = img_[...,-1]/255+saturation\n",
    "    #將邊緣條件(小於0)者，設定為0\n",
    "    img_[img_[..., -1] < 0] = 0\n",
    "    #轉回0-255區間\n",
    "    img_[..., -1] = img_[..., -1]*255\n",
    "    #轉回unit8格式\n",
    "    img_ = img_.astype('uint8')\n",
    "    img_ = cv2.cvtColor(img_,cv2.COLOR_HLS2BGR)\n",
    "    return img_\n",
    "\n",
    "#調降2成飽和度\n",
    "img_hls_down = convert_img(img_hls, -0.2)\n",
    "img_hls_up= convert_img(img_hls, 0.2)\n",
    "merge_img = np.hstack((img,img_hls,img_hls_down,img_hls_up))\n",
    "cv2.imshow('color space',merge_img);\n",
    "cv2.waitKey(0)"
   ]
  },
  {
   "cell_type": "code",
   "execution_count": 7,
   "metadata": {},
   "outputs": [
    {
     "data": {
      "text/plain": [
       "-1"
      ]
     },
     "execution_count": 7,
     "metadata": {},
     "output_type": "execute_result"
    }
   ],
   "source": [
    "#題目2:調整明亮度\n",
    "img2=cv2.convertScaleAbs(img, alpha=2.0, beta=0)\n",
    "img3=cv2.convertScaleAbs(img, alpha=1.0, beta=50)\n",
    "merge_img = np.hstack((img,img2,img3))\n",
    "cv2.imshow('明亮度',merge_img)\n",
    "cv2.waitKey(0)"
   ]
  },
  {
   "cell_type": "code",
   "execution_count": 6,
   "metadata": {},
   "outputs": [
    {
     "data": {
      "text/plain": [
       "-1"
      ]
     },
     "execution_count": 6,
     "metadata": {},
     "output_type": "execute_result"
    }
   ],
   "source": [
    "#灰階不用下列方式，因為只剩黑、白色系\n",
    "def convertScale(img_,alpha,beta):\n",
    "    for b in range(img_.shape[0]):#blue\n",
    "        for g in range(img_.shape[1]):#green\n",
    "            for r in range(img_.shape[2]):#red\n",
    "                img_[b,g,r] = np.clip(alpha * img_[b,g,r] + beta, 0 ,255)\n",
    "    return img_\n",
    "\n",
    "new_img2 = convertScale(img,2.0,0)\n",
    "new_img3 = convertScale(img,1.0,50)\n",
    "merge_img2 = np.hstack((img,new_img2,new_img3))\n",
    "merge_img3 = np.hstack((merge_img,merge_img2 ))\n",
    "cv2.imshow('img_hls',merge_img)\n",
    "cv2.waitKey(0)            "
   ]
  },
  {
   "cell_type": "code",
   "execution_count": 6,
   "metadata": {},
   "outputs": [
    {
     "data": {
      "text/plain": [
       "-1"
      ]
     },
     "execution_count": 6,
     "metadata": {},
     "output_type": "execute_result"
    }
   ],
   "source": [
    "#題目3:直方圖均衡\n",
    "#轉換成灰階\n",
    "#問題：為何一定要轉換成灰階？\n",
    "img_gray = cv2.cvtColor(img,cv2.COLOR_RGB2GRAY)\n",
    "img_gray_equal = cv2.equalizeHist(img_gray)\n",
    "merge_img = np.hstack((img_gray,img_gray_equal))\n",
    "cv2.imshow('直方圖均衡',merge_img)\n",
    "cv2.waitKey(0)"
   ]
  }
 ],
 "metadata": {
  "kernelspec": {
   "display_name": "Python 3",
   "language": "python",
   "name": "python3"
  },
  "language_info": {
   "codemirror_mode": {
    "name": "ipython",
    "version": 3
   },
   "file_extension": ".py",
   "mimetype": "text/x-python",
   "name": "python",
   "nbconvert_exporter": "python",
   "pygments_lexer": "ipython3",
   "version": "3.6.1"
  }
 },
 "nbformat": 4,
 "nbformat_minor": 2
}
