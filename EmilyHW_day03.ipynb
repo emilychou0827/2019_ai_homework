{
 "cells": [
  {
   "cell_type": "code",
   "execution_count": 1,
   "metadata": {},
   "outputs": [],
   "source": [
    "import cv2\n",
    "import numpy as np\n",
    "path = 'data/lena.png'\n",
    "img = cv2.imread(path)\n",
    "#print(img)\n",
    "timg =  img.astype('float32')\n",
    "#print(timg)\n",
    "img_hls = cv2.cvtColor(img,cv2.COLOR_BGR2HLS)\n",
    "img_hsv = cv2.cvtColor(img,cv2.COLOR_BGR2HSV)"
   ]
  },
  {
   "cell_type": "code",
   "execution_count": 2,
   "metadata": {},
   "outputs": [],
   "source": [
    "#題目1:改變 color space 來調整飽和度\n",
    "def convert_img(img_,last_value,saturation,type_):\n",
    "    #操作飽和度時，一定要將整數轉換成小數\n",
    "    img_ =  img_.astype('float32') #陣列本是整數值，改轉換成浮點數            \n",
    "    #img_[...,last_value] = img_[...,last_value]/255+saturation #代入1時，會有些相素沒算到，轉換圖片時會有黑影   \n",
    "    #if (rgb == \"r\"):\n",
    "    #    img_[last_value,:,:] = img_[last_value,:,:]/255+saturation\n",
    "    #elif (rgb ==\"g\"):   \n",
    "    #    img_[:,last_value,:] = img_[:,last_value,:]/255+saturation\n",
    "    #elif (rgb ==\"b\"): \n",
    "    img_[:,:,last_value] = img_[:,:,last_value]/255+saturation\n",
    "    #else:\n",
    "    # img_[last_value,last_value,last_value] = img_[last_value,last_value,last_value]/255+saturation \n",
    "        \n",
    "    #以下取特徵值，當特徵透過飽合度運算後，小於0時，全部設定為0    \n",
    "    img_[img_[..., last_value] < 0] = 0\n",
    "    #img_[img_[last_value,:,:] < 0] = 0\n",
    "    #將圖轉換回來，轉回0-255區間\n",
    "    #img_[..., last_value] = img_[..., last_value]*255\n",
    "    #if (rgb == \"r\"):\n",
    "    #    img_[ last_value,:,:] = img_[last_value,:,:]*255    \n",
    "    #elif (rgb ==\"g\"):       \n",
    "    #    img_[ :,last_value,:] = img_[:,last_value,:]*255\n",
    "    #elif (rgb ==\"b\"): \n",
    "    img_[:,:,last_value] = img_[:,:,last_value]*255\n",
    "    #else:    \n",
    "    #img_[last_value,last_value,last_value] = img_[last_value,last_value,last_value]*255\n",
    "    #轉回unit8格式(0-255)\n",
    "    img_ = img_.astype('uint8')\n",
    "    if (type_ == \"HSV\"):\n",
    "        img_ = cv2.cvtColor(img_,cv2.COLOR_HSV2BGR)\n",
    "    elif (type_ ==\"HLS\"):\n",
    "        img_ = cv2.cvtColor(img_,cv2.COLOR_HLS2BGR)    \n",
    "    elif (type_ ==\"FHLS\"):\n",
    "        img_ = cv2.cvtColor(img_,cv2.COLOR_HLS2BGR_FULL)    \n",
    "    else:\n",
    "        img_ = cv2.cvtColor(img_,cv2.COLOR_LAB2BGR)    \n",
    "    return img_"
   ]
  },
  {
   "cell_type": "code",
   "execution_count": 3,
   "metadata": {},
   "outputs": [],
   "source": [
    "#調降2成飽和度\n",
    "img_cell_1_2 = convert_img(img_hsv, 1, -0.2, \"HSV\")#OK\n",
    "img_cell_1_3 = convert_img(img_hls, -1,0.2, \"HLS\") #OK\n",
    "merge_img1 = np.hstack((img,img_cell_1_2,img_cell_1_3)) #OK"
   ]
  },
  {
   "cell_type": "code",
   "execution_count": 4,
   "metadata": {},
   "outputs": [],
   "source": [
    "img_cell_2_2 = convert_img(img_hls, -1,-0.2, \"HLS\")#OK\n",
    "\n",
    "img_hsv2 = img_hsv.copy()\n",
    "img_hsv2 =cv2.convertScaleAbs(img_hsv2, alpha=1.0, beta=3)\n",
    "img_cell_2_3 = convert_img(img_hsv2,-1,0.03, \"HSV\")#有點像\n",
    "merge_img2 = np.hstack((img,img_cell_2_2,img_cell_2_3))\n"
   ]
  },
  {
   "cell_type": "code",
   "execution_count": 163,
   "metadata": {},
   "outputs": [
    {
     "data": {
      "text/plain": [
       "-1"
      ]
     },
     "execution_count": 163,
     "metadata": {},
     "output_type": "execute_result"
    }
   ],
   "source": [
    "img_hls2 = img_hls.copy()\n",
    "img_hls2 =cv2.convertScaleAbs(img_hsv, alpha=1.0, beta=1)\n",
    "img_cell_3_2 = convert_img(img_hls2,1,0.5, \"HLS\") \n",
    "\n",
    "#img_cell_3_3=cv2.convertScaleAbs(img_hls, alpha=1, beta=-10)\n",
    "#img_cell_3_3 = convert_img(img_hls,-1,-0.2, \"HLS\")#OK\n",
    "\n",
    "img_cell_3_3=cv2.convertScaleAbs(img_hls, alpha=1, beta=-10)\n",
    "img_cell_3_3 = convert_img(img_cell_3_3,-1,-0.1, \"HLS\")\n",
    "\n",
    "#img_cell_3_3=cv2.convertScaleAbs(img_cell_3_3, alpha=1, beta=-5)\n",
    "merge_img3 = np.hstack((img,img_cell_3_2,img_cell_3_3)) #推壘起來\n",
    "cv2.imshow('color space',merge_img3);\n",
    "cv2.waitKey(0)"
   ]
  },
  {
   "cell_type": "code",
   "execution_count": 120,
   "metadata": {},
   "outputs": [],
   "source": [
    "#題目2:調整明亮度\n",
    "img_cell_4_2=cv2.convertScaleAbs(img, alpha=1.5, beta=30)#OK\n",
    "img_cell_4_3=cv2.convertScaleAbs(img, alpha=-1, beta=-40)#OK\n",
    "merge_img4 = np.hstack((img,img_cell_4_2,img_cell_4_3))"
   ]
  },
  {
   "cell_type": "code",
   "execution_count": 121,
   "metadata": {},
   "outputs": [
    {
     "data": {
      "text/plain": [
       "-1"
      ]
     },
     "execution_count": 121,
     "metadata": {},
     "output_type": "execute_result"
    }
   ],
   "source": [
    "merge = np.vstack((merge_img1,merge_img2,merge_img3,merge_img4))\n",
    "dim=(500,600)\n",
    "resized = cv2.resize(merge, dim, interpolation = cv2.INTER_AREA)\n",
    "cv2.imshow('color space',resized);\n",
    "cv2.waitKey(0)"
   ]
  },
  {
   "cell_type": "code",
   "execution_count": 96,
   "metadata": {},
   "outputs": [
    {
     "data": {
      "text/plain": [
       "-1"
      ]
     },
     "execution_count": 96,
     "metadata": {},
     "output_type": "execute_result"
    }
   ],
   "source": [
    "#img_cell_3_2 = convert_img(img_hsv,\"b\",1,0.2, \"HSV\") \n",
    "#img_gray = cv2.cvtColor(img,cv2.COLOR_RGB2GRAY)\n",
    "def convert_img2(img_,last_value):\n",
    "    img_ =  img_.astype('float32') #陣列本是整數值，改轉換成浮點數            \n",
    "    #img_[...,last_value] = img_[...,last_value]/255+saturation #代入1時，會有些相素沒算到，轉換圖片時會有黑影       \n",
    "    img_[last_value] = img_[last_value]/255+saturation\n",
    "        \n",
    "    #以下取特徵值，當特徵透過飽合度運算後，小於0時，全部設定為0    \n",
    "    img_[img_[last_value] < 0] = 0\n",
    "    #img_[img_[last_value,:,:] < 0] = 0\n",
    "    #將圖轉換回來，轉回0-255區間   \n",
    "    img_[last_value] = img_[last_value]*255\n",
    "    \n",
    "    #轉回unit8格式(0-255)\n",
    "    img_ = img_.astype('uint8')\n",
    "    img_ = cv2.cvtColor(img_,cv2.COLOR_GRAY2BGR)    \n",
    "    return img_\n",
    "\n",
    "img_gray= cv2.cvtColor(img,cv2.COLOR_RGB2GRAY)\n",
    "img_equal = cv2.equalizeHist(img_gray)\n",
    "img2=cv2.cvtColor(img_equal,cv2.COLOR_GRAY2BGR)\n",
    "#merge_g = np.hstack((img_gray,img_equal,img2)) \n",
    "cv2.imshow('color space',img2);\n",
    "cv2.waitKey(0)"
   ]
  },
  {
   "cell_type": "code",
   "execution_count": null,
   "metadata": {},
   "outputs": [],
   "source": [
    "#調整明亮度另一個作法就是用bgr換算 = convertScaleAbs()函式\n",
    "#下列作法執行上會較慢\n",
    "#灰階(剩2維)不用下列方式，因為只剩黑、白色系\n",
    "\n",
    "def convertScale(img_,alpha,beta):    \n",
    "    for b in range(img_.shape[0]):#blue\n",
    "        for g in range(img_.shape[1]):#green\n",
    "            for r in range(img_.shape[2]):#red\n",
    "                img_[b,g,r] = np.clip(alpha * img_[b,g,r] + beta, 0 ,255) \n",
    "                #clip():經過換算後，所有的值一定要介於0-255之間，>0者，=0；>255者，=255\n",
    "    return img_"
   ]
  },
  {
   "cell_type": "code",
   "execution_count": null,
   "metadata": {},
   "outputs": [],
   "source": [
    "#fimg2 = img.copy() #https://www.programiz.com/python-programming/methods/list/copy\n",
    "#fimg2 = convertScale(fimg2,2.0,0)\n",
    "#fimg3 = img.copy()\n",
    "#fimg3 = convertScale(fimg3,1.0,50)\n",
    "#merge_imgf = np.hstack((img,fimg2,fimg3))\n",
    "#cv2.imshow('明亮度[bgr]-old',merge_imgf)\n",
    "#cv2.waitKey(0) "
   ]
  },
  {
   "cell_type": "code",
   "execution_count": null,
   "metadata": {},
   "outputs": [],
   "source": [
    "           "
   ]
  },
  {
   "cell_type": "code",
   "execution_count": null,
   "metadata": {},
   "outputs": [],
   "source": [
    "#題目3:直方圖均衡\n",
    "#轉換成灰階\n",
    "#問題：為何一定要轉換成灰階？\n",
    "img_gray = cv2.cvtColor(img,cv2.COLOR_RGB2GRAY)\n",
    "#print(img_gray) #img原圖是3維，灰階後剩2維\n",
    "img_gray_equal = cv2.equalizeHist(img_gray)\n",
    "print(img_gray_equal)\n",
    "merge_img = np.hstack((img_gray,img_gray_equal))  #各為2維陣列，故無法與img進行hstack\n",
    "#cv2.imshow('直方圖均衡',merge_img)\n",
    "#cv2.waitKey(0)"
   ]
  },
  {
   "cell_type": "code",
   "execution_count": null,
   "metadata": {},
   "outputs": [],
   "source": []
  }
 ],
 "metadata": {
  "kernelspec": {
   "display_name": "Python 3",
   "language": "python",
   "name": "python3"
  },
  "language_info": {
   "codemirror_mode": {
    "name": "ipython",
    "version": 3
   },
   "file_extension": ".py",
   "mimetype": "text/x-python",
   "name": "python",
   "nbconvert_exporter": "python",
   "pygments_lexer": "ipython3",
   "version": "3.6.1"
  }
 },
 "nbformat": 4,
 "nbformat_minor": 2
}
