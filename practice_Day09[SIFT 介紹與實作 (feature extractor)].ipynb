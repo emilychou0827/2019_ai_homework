{
 "cells": [
  {
   "cell_type": "code",
   "execution_count": 1,
   "metadata": {},
   "outputs": [],
   "source": [
    "import numpy as np\n",
    "import cv2\n",
    "\n",
    "#img = cv2.imread('data/lena.png')\n",
    "img = cv2.imread('test/book.jpg')"
   ]
  },
  {
   "cell_type": "code",
   "execution_count": 2,
   "metadata": {},
   "outputs": [],
   "source": [
    "img_gray = cv2.cvtColor(img, cv2.COLOR_BGR2GRAY)\n",
    "img_gray = cv2.resize(img_gray, None, fx =0.5 ,fy=0.5)\n",
    "#cv2.imshow('gray',img_gray)\n",
    "#cv2.waitKey(0)"
   ]
  },
  {
   "cell_type": "code",
   "execution_count": null,
   "metadata": {},
   "outputs": [
    {
     "name": "stdout",
     "output_type": "stream",
     "text": [
      "kp[0]=(17.02052116394043, 85.46823120117188) kp[0].size=4.274806499481201\n",
      "min_pt=(17.02052116394043, 85.46823120117188),max_pt=(666.8643188476562, 788.5071411132812)\n"
     ]
    }
   ],
   "source": [
    "sift = cv2.xfeatures2d.SIFT_create() # 建立 SIFT 物件\n",
    "#keypoints = sift.detect(img_gray, None) # 抽取關鍵點\n",
    "#print(\"keypoints=\",type(keypoints))\n",
    "kp, des = sift.detectAndCompute(img_gray,None)\n",
    "print(\"kp[0]={} kp[0].size={}\".format(kp[0].pt,kp[0].size))\n",
    "ptlist=[]\n",
    "for i in range(len(kp)):\n",
    "    ptlist.append(kp[i].pt)\n",
    "    \n",
    "\n",
    "min_pt =min(ptlist)\n",
    "max_pt =max(ptlist)\n",
    "#left_pt =left(ptlist)\n",
    "#right_pt =right(ptlist)\n",
    "print(\"min_pt={},max_pt={}\".format(min_pt,max_pt))\n",
    "#print(\"left_pt={},right_pt={}\".format(left_pt,right_pt))\n",
    "\n",
    "img_show = cv2.drawKeypoints(img_gray, kp, img)\n",
    "cv2.imshow('test',img_show)\n",
    "cv2.waitKey(0)\n",
    "cv2.destroyAllWindows()"
   ]
  },
  {
   "cell_type": "code",
   "execution_count": null,
   "metadata": {},
   "outputs": [],
   "source": []
  }
 ],
 "metadata": {
  "kernelspec": {
   "display_name": "Python 3",
   "language": "python",
   "name": "python3"
  },
  "language_info": {
   "codemirror_mode": {
    "name": "ipython",
    "version": 3
   },
   "file_extension": ".py",
   "mimetype": "text/x-python",
   "name": "python",
   "nbconvert_exporter": "python",
   "pygments_lexer": "ipython3",
   "version": "3.6.1"
  }
 },
 "nbformat": 4,
 "nbformat_minor": 2
}
