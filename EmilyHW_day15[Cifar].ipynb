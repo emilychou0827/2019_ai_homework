{
 "cells": [
  {
   "cell_type": "markdown",
   "metadata": {},
   "source": [
    "## 『本次練習內容』\n",
    "#### 運用這幾天所學觀念搭建一個CNN分類器"
   ]
  },
  {
   "cell_type": "markdown",
   "metadata": {},
   "source": [
    "## 『本次練習目的』\n",
    "  #### 熟悉CNN分類器搭建步驟與原理\n",
    "  #### 學員們可以嘗試不同搭法，如使用不同的Maxpooling層，用GlobalAveragePooling取代Flatten等等"
   ]
  },
  {
   "cell_type": "code",
   "execution_count": 1,
   "metadata": {},
   "outputs": [
    {
     "name": "stderr",
     "output_type": "stream",
     "text": [
      "Using TensorFlow backend.\n"
     ]
    }
   ],
   "source": [
    "from keras.models import Sequential\n",
    "from keras.layers import Convolution2D\n",
    "from keras.layers import MaxPooling2D\n",
    "from keras.layers import Flatten\n",
    "from keras.layers import Dense\n",
    "from keras.layers import Dropout\n",
    "from keras.layers import BatchNormalization\n",
    "from keras.datasets import cifar10\n",
    "import numpy as np\n",
    "import tensorflow as tf\n",
    "from sklearn.preprocessing import OneHotEncoder\n",
    "\n",
    "\n",
    "from keras.layers import Activation\n",
    "from keras.layers import Flatten\n",
    "from keras.layers import GlobalAveragePooling2D"
   ]
  },
  {
   "cell_type": "code",
   "execution_count": 2,
   "metadata": {},
   "outputs": [
    {
     "name": "stdout",
     "output_type": "stream",
     "text": [
      "(50000, 32, 32, 3)\n"
     ]
    }
   ],
   "source": [
    "(x_train, y_train), (x_test, y_test) = cifar10.load_data()\n",
    "\n",
    "print(x_train.shape) #(50000, 32, 32, 3)\n",
    "\n",
    "## Normalize Data\n",
    "def normalize(X_train,X_test):\n",
    "        mean = np.mean(X_train,axis=(0,1,2,3))\n",
    "        std = np.std(X_train, axis=(0, 1, 2, 3))\n",
    "        X_train = (X_train-mean)/(std+1e-7)\n",
    "        X_test = (X_test-mean)/(std+1e-7) \n",
    "        return X_train, X_test,mean,std\n",
    "    \n",
    "    \n",
    "## Normalize Training and Testset    \n",
    "x_train, x_test,mean_train,std_train = normalize(x_train, x_test) "
   ]
  },
  {
   "cell_type": "code",
   "execution_count": 3,
   "metadata": {},
   "outputs": [],
   "source": [
    "## OneHot Label 由(None, 1)-(None, 10)\n",
    "## ex. label=2,變成[0,0,1,0,0,0,0,0,0,0]\n",
    "\n",
    "#Emily:OneHotEncoder(categories='auto', drop=None, sparse=True, dtype=<class 'numpy.float64'>, handle_unknown='error')\n",
    "one_hot=OneHotEncoder()\n",
    "y_train=one_hot.fit_transform(y_train).toarray()\n",
    "y_test=one_hot.transform(y_test).toarray()"
   ]
  },
  {
   "cell_type": "code",
   "execution_count": null,
   "metadata": {},
   "outputs": [
    {
     "name": "stderr",
     "output_type": "stream",
     "text": [
      "d:\\source\\python37\\lib\\site-packages\\ipykernel_launcher.py:27: UserWarning: Update your `Dense` call to the Keras 2 API: `Dense(activation=\"softmax\", units=10)`\n"
     ]
    },
    {
     "name": "stdout",
     "output_type": "stream",
     "text": [
      "Epoch 1/100\n",
      "50000/50000 [==============================] - 84s 2ms/step - loss: 1.6722 - accuracy: 0.5044\n",
      "Epoch 2/100\n",
      "50000/50000 [==============================] - 83s 2ms/step - loss: 0.9914 - accuracy: 0.6567\n",
      "Epoch 3/100\n",
      "50000/50000 [==============================] - 82s 2ms/step - loss: 0.8450 - accuracy: 0.7050\n",
      "Epoch 4/100\n",
      "50000/50000 [==============================] - 82s 2ms/step - loss: 0.7595 - accuracy: 0.7364\n",
      "Epoch 5/100\n",
      "50000/50000 [==============================] - 82s 2ms/step - loss: 0.7059 - accuracy: 0.7523\n",
      "Epoch 6/100\n",
      "50000/50000 [==============================] - 82s 2ms/step - loss: 0.6642 - accuracy: 0.7697\n",
      "Epoch 7/100\n",
      "50000/50000 [==============================] - 82s 2ms/step - loss: 0.6237 - accuracy: 0.7807\n",
      "Epoch 8/100\n",
      "50000/50000 [==============================] - 82s 2ms/step - loss: 0.5783 - accuracy: 0.7970\n",
      "Epoch 9/100\n",
      "50000/50000 [==============================] - 82s 2ms/step - loss: 0.5505 - accuracy: 0.8079\n",
      "Epoch 10/100\n",
      "50000/50000 [==============================] - 82s 2ms/step - loss: 0.5118 - accuracy: 0.8212\n",
      "Epoch 11/100\n",
      "50000/50000 [==============================] - 83s 2ms/step - loss: 0.4875 - accuracy: 0.8296\n",
      "Epoch 12/100\n",
      "50000/50000 [==============================] - 82s 2ms/step - loss: 0.4527 - accuracy: 0.8407\n",
      "Epoch 13/100\n",
      "50000/50000 [==============================] - 80s 2ms/step - loss: 0.4345 - accuracy: 0.8449\n",
      "Epoch 14/100\n",
      "50000/50000 [==============================] - 80s 2ms/step - loss: 0.4036 - accuracy: 0.8553\n",
      "Epoch 15/100\n",
      "50000/50000 [==============================] - 80s 2ms/step - loss: 0.3807 - accuracy: 0.8639\n",
      "Epoch 16/100\n",
      "50000/50000 [==============================] - 81s 2ms/step - loss: 0.3672 - accuracy: 0.8680\n",
      "Epoch 17/100\n",
      "50000/50000 [==============================] - 82s 2ms/step - loss: 0.3453 - accuracy: 0.8765\n",
      "Epoch 18/100\n",
      "50000/50000 [==============================] - 81s 2ms/step - loss: 0.3311 - accuracy: 0.8805\n",
      "Epoch 19/100\n",
      "50000/50000 [==============================] - 81s 2ms/step - loss: 0.3074 - accuracy: 0.8894\n",
      "Epoch 20/100\n",
      "50000/50000 [==============================] - 81s 2ms/step - loss: 0.2941 - accuracy: 0.8933\n",
      "Epoch 21/100\n",
      "50000/50000 [==============================] - 80s 2ms/step - loss: 0.2781 - accuracy: 0.8995\n",
      "Epoch 22/100\n",
      "50000/50000 [==============================] - 81s 2ms/step - loss: 0.2686 - accuracy: 0.9012\n",
      "Epoch 23/100\n",
      "50000/50000 [==============================] - 80s 2ms/step - loss: 0.2658 - accuracy: 0.9029\n",
      "Epoch 24/100\n",
      "50000/50000 [==============================] - 81s 2ms/step - loss: 0.2435 - accuracy: 0.9116\n",
      "Epoch 25/100\n",
      "50000/50000 [==============================] - 80s 2ms/step - loss: 0.2277 - accuracy: 0.9173\n",
      "Epoch 26/100\n",
      "50000/50000 [==============================] - 81s 2ms/step - loss: 0.2269 - accuracy: 0.9159\n",
      "Epoch 27/100\n",
      "50000/50000 [==============================] - 80s 2ms/step - loss: 0.2131 - accuracy: 0.9220\n",
      "Epoch 28/100\n",
      "50000/50000 [==============================] - 80s 2ms/step - loss: 0.2008 - accuracy: 0.9267\n",
      "Epoch 29/100\n",
      "50000/50000 [==============================] - 81s 2ms/step - loss: 0.1974 - accuracy: 0.9272\n",
      "Epoch 30/100\n",
      "50000/50000 [==============================] - 80s 2ms/step - loss: 0.1924 - accuracy: 0.9295\n",
      "Epoch 31/100\n",
      "50000/50000 [==============================] - 80s 2ms/step - loss: 0.1873 - accuracy: 0.9318\n",
      "Epoch 32/100\n",
      "50000/50000 [==============================] - 88s 2ms/step - loss: 0.1725 - accuracy: 0.9362\n",
      "Epoch 33/100\n",
      "50000/50000 [==============================] - 94s 2ms/step - loss: 0.1749 - accuracy: 0.9372\n",
      "Epoch 34/100\n",
      "50000/50000 [==============================] - 86s 2ms/step - loss: 0.1716 - accuracy: 0.9375\n",
      "Epoch 35/100\n",
      "50000/50000 [==============================] - 86s 2ms/step - loss: 0.1543 - accuracy: 0.9420\n",
      "Epoch 36/100\n",
      "50000/50000 [==============================] - 85s 2ms/step - loss: 0.1573 - accuracy: 0.9418\n",
      "Epoch 37/100\n",
      "50000/50000 [==============================] - 88s 2ms/step - loss: 0.1562 - accuracy: 0.9438\n",
      "Epoch 38/100\n",
      "50000/50000 [==============================] - 84s 2ms/step - loss: 0.1510 - accuracy: 0.9438\n",
      "Epoch 39/100\n",
      "50000/50000 [==============================] - 86s 2ms/step - loss: 0.1400 - accuracy: 0.9494\n",
      "Epoch 40/100\n",
      "50000/50000 [==============================] - 87s 2ms/step - loss: 0.1388 - accuracy: 0.9487\n",
      "Epoch 41/100\n",
      "50000/50000 [==============================] - 84s 2ms/step - loss: 0.1409 - accuracy: 0.9492\n",
      "Epoch 42/100\n",
      "50000/50000 [==============================] - 83s 2ms/step - loss: 0.1367 - accuracy: 0.9494\n",
      "Epoch 43/100\n",
      "50000/50000 [==============================] - 84s 2ms/step - loss: 0.1247 - accuracy: 0.9544\n",
      "Epoch 44/100\n",
      "50000/50000 [==============================] - 87s 2ms/step - loss: 0.1160 - accuracy: 0.9566\n",
      "Epoch 45/100\n",
      "50000/50000 [==============================] - 87s 2ms/step - loss: 0.1235 - accuracy: 0.9551\n",
      "Epoch 46/100\n",
      "20500/50000 [===========>..................] - ETA: 52s - loss: 0.1015 - accuracy: 0.9648"
     ]
    }
   ],
   "source": [
    "\n",
    "classifier=Sequential()\n",
    "\n",
    "#卷積組合\n",
    "#Q:classifier.add(Convolution2D('自己設計參數'))#32,3,3,input_shape=(32,32,3),activation='relu''\n",
    "classifier.add(Convolution2D(32, kernel_size=(3,3), padding='same',input_shape=(32,32,3))) #32,3,3,input_shape=(32,32,3),activation='relu''\n",
    "classifier.add(Activation('relu'))\n",
    "classifier.add(BatchNormalization())\n",
    "\n",
    "'''自己決定MaxPooling2D放在哪裡'''\n",
    "#classifier.add(MaxPooling2D(pool_size=(2,2)))\n",
    "classifier.add(MaxPooling2D(pool_size=(2,2)))\n",
    "#卷積組合\n",
    "#Q:classifier.add(Convolution2D('自己設計參數'))\n",
    "classifier.add(Convolution2D(32, kernel_size=(3,3)))\n",
    "classifier.add(BatchNormalization())\n",
    "\n",
    "#flatten\n",
    "classifier.add(Flatten())\n",
    "\n",
    "#FC\n",
    "#classifier.add(Dense('自己設計FC層參數')) #output_dim=100,activation=relu\n",
    "classifier.add(Activation('relu'))\n",
    "classifier.add(Dense(100)) #output_dim=100,activation=relu\n",
    "\n",
    "#輸出\n",
    "#classifier.add(Dense(output_dim=10,activation='輸出函數應該用什麼？'))\n",
    "classifier.add(Dense(output_dim=10,activation='softmax'))\n",
    "\n",
    "#超過兩個就要選categorical_crossentrophy\n",
    "classifier.compile(optimizer = 'adam', loss = 'categorical_crossentropy', metrics = ['accuracy'])\n",
    "classifier.fit(x_train,y_train,batch_size=100,epochs=100)"
   ]
  },
  {
   "cell_type": "markdown",
   "metadata": {},
   "source": [
    "## 預測新圖片，輸入影像前處理要與訓練時相同\n",
    "#### ((X-mean)/(std+1e-7) ):這裡的mean跟std是訓練集的\n",
    "## 維度如下方示範"
   ]
  },
  {
   "cell_type": "code",
   "execution_count": null,
   "metadata": {},
   "outputs": [],
   "source": [
    "input_example=(np.zeros(shape=(1,32,32,3))-mean_train)/(std_train+1e-7) \n",
    "classifier.predict(input_example)"
   ]
  }
 ],
 "metadata": {
  "kernelspec": {
   "display_name": "Python 3",
   "language": "python",
   "name": "python3"
  },
  "language_info": {
   "codemirror_mode": {
    "name": "ipython",
    "version": 3
   },
   "file_extension": ".py",
   "mimetype": "text/x-python",
   "name": "python",
   "nbconvert_exporter": "python",
   "pygments_lexer": "ipython3",
   "version": "3.7.5"
  }
 },
 "nbformat": 4,
 "nbformat_minor": 2
}
