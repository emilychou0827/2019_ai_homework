{
 "cells": [
  {
   "cell_type": "markdown",
   "metadata": {},
   "source": [
    "# 安裝\n",
    "1.pip pillow\n",
    "\n",
    "2.pip install pytesseract\n",
    "\n",
    "3.install tesseract v#3.02(有windows版)\n",
    "\n",
    "\n",
    "\n",
    "tesseract 4.0 beta:\n",
    "\n",
    "x32:https://sourceforge.net/projects/naps2/files/components/tesseract-4.0.0b4/tesseract.exe-dlls-400b4-tess32.zip/download\n",
    "\n",
    "x64:https://sourceforge.net/projects/naps2/files/components/tesseract-4.0.0b4/tesseract.exe-dlls-400b4-tess64.zip/download\n"
   ]
  },
  {
   "cell_type": "code",
   "execution_count": 1,
   "metadata": {},
   "outputs": [],
   "source": [
    "import pytesseract\n",
    "from PIL import Image,ImageEnhance\n",
    "import cv2\n",
    "\n",
    "#https://github.com/tesseract-ocr/tessdata_best\n",
    "#https://github.com/tesseract-ocr/tesseract/wiki/4.0-with-LSTM#400-alpha-for-windows\n",
    "#各版本字集下載網址：https://github.com/tesseract-ocr/tesseract/wiki/Data-Files#data-files-for-version-400-november-29-2016"
   ]
  },
  {
   "cell_type": "code",
   "execution_count": 17,
   "metadata": {},
   "outputs": [
    {
     "name": "stdout",
     "output_type": "stream",
     "text": [
      "start\n",
      "A 版 日 P﹒ 產 品 ， 開 發 與 驗 證 時 間 約 各 佔 3 崎 /60%\n"
     ]
    }
   ],
   "source": [
    "#pytesseract.pytesseract.tesseract_cmd = 'D://source//Tesseract-OCR//tesseract.exe'\n",
    "pytesseract.pytesseract.tesseract_cmd = 'D://source//tesseract.exe-dlls-400b4-tess32//tesseract.exe'\n",
    "#image = Image.open(\"test\\ocr_test_new.jpg\")#新細明體\n",
    "image = Image.open(\"test\\ocr_test_s.jpg\")#標楷體(kaiu)\n",
    "image = Image.open(\"test\\ocr_test_line.jpg\")\n",
    "\n",
    "def process_img(img,resize_num,b):    \n",
    "    im = img.resize((img.width * int(resize_num), img.height * int(resize_num)))\n",
    "    # 影象二值化\n",
    "    imgry = im.convert('L')\n",
    "    # 對比度增強\n",
    "    sharpness = ImageEnhance.Contrast(imgry)\n",
    "    sharp_img = sharpness.enhance(b)\n",
    "    return sharp_img\n",
    "\n",
    "def process_gray(path):  \n",
    "    img = cv2.imread(path)   \n",
    "    img_gray = cv2.cvtColor(img, cv2.COLOR_RGB2GRAY)            \n",
    "    #cv2.resize(img_gray, center)\n",
    "    #img_sx = cv2.Sobel(img_gray, cv2.CV_16S, dx=1,dy=0)\n",
    "    #img_sy = cv2.Sobel(img_gray, cv2.CV_16S, dx=0,dy=1)\n",
    "    #img_sx = cv2.convertScaleAbs(img_sx)\n",
    "    #img_sy = cv2.convertScaleAbs(img_sy)\n",
    "    #merge_img = cv2.addWeighted(img_sx,0.5 , img_sy ,0.5,0)\n",
    "    return img_gray\n",
    "\n",
    "#image = Image.open(\"test\\eng_test.jpg\")\n",
    "print('start')\n",
    "r=2 #=1時同無轉換一樣，辨識差\n",
    "b=2.0\n",
    "#new_img = process_img(image,r,b)\n",
    "#new_img = process_gray('test\\ocr_test_s.jpg')\n",
    "new_img = image.copy()\n",
    "#text = pytesseract.image_to_string(new_img, lang='chi_tra', config=\"--psm 1 --oem 2\")\n",
    "text = pytesseract.image_to_string(new_img, lang='chi_tra')\n",
    "#text = pytesseract.image_to_string(new_img, lang='chi_tra', config=\"--psm 3 --oem 2\")\n",
    "\n",
    "#text = pytesseract.image_to_string(new_img, lang='chi_tra')\n",
    "#text = pytesseract.image_to_string(new_img, lang='chi_tra')#config=\"--psm 3 --oem 2\")\n",
    "print(text)\n",
    "#結論：標楷體比新細明體好辨識\n",
    "\n",
    "#cv2.imshow('trans',new_img)\n",
    "#cv2.waitKey(0)\n",
    "#cv2.destroyAllWindows()\n",
    "\n",
    "#traning:https://www.itread01.com/articles/1476853517.html"
   ]
  },
  {
   "cell_type": "code",
   "execution_count": null,
   "metadata": {},
   "outputs": [],
   "source": []
  }
 ],
 "metadata": {
  "kernelspec": {
   "display_name": "Python 3",
   "language": "python",
   "name": "python3"
  },
  "language_info": {
   "codemirror_mode": {
    "name": "ipython",
    "version": 3
   },
   "file_extension": ".py",
   "mimetype": "text/x-python",
   "name": "python",
   "nbconvert_exporter": "python",
   "pygments_lexer": "ipython3",
   "version": "3.6.1"
  }
 },
 "nbformat": 4,
 "nbformat_minor": 2
}
